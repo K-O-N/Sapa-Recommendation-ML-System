{
  "nbformat": 4,
  "nbformat_minor": 0,
  "metadata": {
    "accelerator": "GPU",
    "colab": {
      "name": "DSN_Zindi_Competition.ipynb",
      "provenance": [],
      "collapsed_sections": [],
      "toc_visible": true
    },
    "kernelspec": {
      "display_name": "Python 3",
      "name": "python3"
    },
    "language_info": {
      "name": "python"
    }
  },
  "cells": [
    {
      "cell_type": "markdown",
      "metadata": {
        "id": "KaLJQOzPf1Y8"
      },
      "source": [
        "# Data Science Nigeria 2021 AI Bootcamp Qualification Hackathon \n",
        "\n",
        " >This project is aimed at buildng a robust intelligent model capable of recommending products and services to Users based on their activities on sapa.com\n",
        "\n",
        "### Variable definitions\n",
        "\n",
        "1. ID: Unique identifier for each User\n",
        "2. Year_of_Birth: Year of birth\n",
        "3. Education_Level: The highest level of education attained by the User\n",
        "4. Marital_Status: Marital status\n",
        "5. Disposable_Income: Yearly User’s household disposable income\n",
        "6. No_of_Kids_in_home: total count of children in the user’s home\n",
        "7. No_of_Teen_in_home: Number of teenagers in the User's household\n",
        "8. Date_User: Date of User's enrollment with the company\n",
        "9. Recency: Number of days since User's last purchase\n",
        "10. Discounted_Purchases: Counts of purchases made by the user using coupons\n",
        "11. WebPurchases: Counts of purchases made by the user through the company’s website\n",
        "12. CatalogPurchases: Counts of purchases made by the user using a catalogue\n",
        "13. StorePurchases: Counts of purchases made by the user directly in stores\n",
        "14. Amount_on_Wines: Total amount user spent on wine and drinks within the last 3 years\n",
        "15. Amount_on_Fruits: Total amount user spent on fruity food within the last 3 years\n",
        "16. Amount_on_MeatProducts: Total amount user spent on meat products and livestock within the last 3 years\n",
        "17. Amount_on_FishProducts: Total amount user spent on fish alone within the last 3 years\n",
        "18. Amount_on_SweetProducts: Total amount user spent on sweets and chocolates within the last 3 years\n",
        "19. Amount_on_GoldProds: Total amount user spent on golden products within the last 3 years\n",
        "20. WebVisitsMonth: The number of times the user of visits to company’s website within the last 4 weeks\n",
        "21. Cmp3Accepted: 1: Offer was accepted after the third campaign, 0 otherwise\n",
        "22. Cmp4Accepted: 1: Offer was accepted after the fourth campaign, 0 otherwise\n",
        "23. Cmp5Accepted: 1: Offer was accepted after the fifth campaign, 0 otherwise\n",
        "24. Cmp1Accepted: 1: Offer was accepted after the first campaign, 0 otherwise\n",
        "25. Cmp2Accepted: 1: Offer was accepted after the second campaign, 0 otherwise\n",
        "26. Any_Complain: 1 if the user has a compliant history with the platform in the last 3 years, 0 otherwise\n",
        "27. User_Response: 1: indicates the acceptance of offer and 0 otherwise"
      ]
    },
    {
      "cell_type": "code",
      "metadata": {
        "id": "Da71BHP4fdjJ"
      },
      "source": [
        "import pandas as pd\n",
        "import numpy as np\n",
        "import matplotlib.pyplot as plt\n",
        "import seaborn as sns"
      ],
      "execution_count": 1,
      "outputs": []
    },
    {
      "cell_type": "code",
      "metadata": {
        "colab": {
          "base_uri": "https://localhost:8080/",
          "height": 225
        },
        "id": "JxQWwXPufjZJ",
        "outputId": "ab79e7ed-b7f8-40f6-8490-7500be2d154f"
      },
      "source": [
        "train = pd.read_csv(\"/content/Train.csv\")\n",
        "train.head()"
      ],
      "execution_count": 2,
      "outputs": [
        {
          "output_type": "execute_result",
          "data": {
            "text/html": [
              "<div>\n",
              "<style scoped>\n",
              "    .dataframe tbody tr th:only-of-type {\n",
              "        vertical-align: middle;\n",
              "    }\n",
              "\n",
              "    .dataframe tbody tr th {\n",
              "        vertical-align: top;\n",
              "    }\n",
              "\n",
              "    .dataframe thead th {\n",
              "        text-align: right;\n",
              "    }\n",
              "</style>\n",
              "<table border=\"1\" class=\"dataframe\">\n",
              "  <thead>\n",
              "    <tr style=\"text-align: right;\">\n",
              "      <th></th>\n",
              "      <th>ID</th>\n",
              "      <th>Year_of_Birth</th>\n",
              "      <th>Education_Level</th>\n",
              "      <th>Marital_Status</th>\n",
              "      <th>Disposable_Income</th>\n",
              "      <th>No_of_Kids_in_home</th>\n",
              "      <th>No_of_Teen_in_home</th>\n",
              "      <th>Date_Customer</th>\n",
              "      <th>Recency</th>\n",
              "      <th>Discounted_Purchases</th>\n",
              "      <th>WebPurchases</th>\n",
              "      <th>CatalogPurchases</th>\n",
              "      <th>StorePurchases</th>\n",
              "      <th>Amount_on_Wines</th>\n",
              "      <th>Amount_on_Fruits</th>\n",
              "      <th>Amount_on_MeatProducts</th>\n",
              "      <th>Amount_on_FishProducts</th>\n",
              "      <th>Amount_on_SweetProducts</th>\n",
              "      <th>Amount_on_GoldProds</th>\n",
              "      <th>WebVisitsMonth</th>\n",
              "      <th>Cmp3Accepted</th>\n",
              "      <th>Cmp4Accepted</th>\n",
              "      <th>Cmp5Accepted</th>\n",
              "      <th>Cmp1Accepted</th>\n",
              "      <th>Cmp2Accepted</th>\n",
              "      <th>Any_Complain</th>\n",
              "      <th>Response</th>\n",
              "    </tr>\n",
              "  </thead>\n",
              "  <tbody>\n",
              "    <tr>\n",
              "      <th>0</th>\n",
              "      <td>ID_4A9AR6FQ</td>\n",
              "      <td>1955</td>\n",
              "      <td>Graduation</td>\n",
              "      <td>Divorced</td>\n",
              "      <td>77504.4</td>\n",
              "      <td>1</td>\n",
              "      <td>1</td>\n",
              "      <td>22-06-2014</td>\n",
              "      <td>56</td>\n",
              "      <td>2</td>\n",
              "      <td>1</td>\n",
              "      <td>1</td>\n",
              "      <td>4</td>\n",
              "      <td>71</td>\n",
              "      <td>3</td>\n",
              "      <td>16</td>\n",
              "      <td>0</td>\n",
              "      <td>6</td>\n",
              "      <td>20</td>\n",
              "      <td>3</td>\n",
              "      <td>0</td>\n",
              "      <td>0</td>\n",
              "      <td>0</td>\n",
              "      <td>0</td>\n",
              "      <td>0</td>\n",
              "      <td>0</td>\n",
              "      <td>0</td>\n",
              "    </tr>\n",
              "    <tr>\n",
              "      <th>1</th>\n",
              "      <td>ID_X28T3VEK</td>\n",
              "      <td>1958</td>\n",
              "      <td>Graduation</td>\n",
              "      <td>Together</td>\n",
              "      <td>56784.0</td>\n",
              "      <td>0</td>\n",
              "      <td>1</td>\n",
              "      <td>01-08-2013</td>\n",
              "      <td>17</td>\n",
              "      <td>6</td>\n",
              "      <td>5</td>\n",
              "      <td>1</td>\n",
              "      <td>8</td>\n",
              "      <td>205</td>\n",
              "      <td>22</td>\n",
              "      <td>111</td>\n",
              "      <td>50</td>\n",
              "      <td>15</td>\n",
              "      <td>19</td>\n",
              "      <td>6</td>\n",
              "      <td>0</td>\n",
              "      <td>0</td>\n",
              "      <td>0</td>\n",
              "      <td>0</td>\n",
              "      <td>0</td>\n",
              "      <td>0</td>\n",
              "      <td>0</td>\n",
              "    </tr>\n",
              "    <tr>\n",
              "      <th>2</th>\n",
              "      <td>ID_AWXARH57</td>\n",
              "      <td>1962</td>\n",
              "      <td>Graduation</td>\n",
              "      <td>Single</td>\n",
              "      <td>103714.8</td>\n",
              "      <td>0</td>\n",
              "      <td>0</td>\n",
              "      <td>21-11-2013</td>\n",
              "      <td>17</td>\n",
              "      <td>0</td>\n",
              "      <td>7</td>\n",
              "      <td>4</td>\n",
              "      <td>7</td>\n",
              "      <td>469</td>\n",
              "      <td>31</td>\n",
              "      <td>873</td>\n",
              "      <td>29</td>\n",
              "      <td>18</td>\n",
              "      <td>37</td>\n",
              "      <td>2</td>\n",
              "      <td>0</td>\n",
              "      <td>0</td>\n",
              "      <td>0</td>\n",
              "      <td>1</td>\n",
              "      <td>0</td>\n",
              "      <td>0</td>\n",
              "      <td>1</td>\n",
              "    </tr>\n",
              "    <tr>\n",
              "      <th>3</th>\n",
              "      <td>ID_FQVZHE81</td>\n",
              "      <td>1979</td>\n",
              "      <td>2n Cycle</td>\n",
              "      <td>Single</td>\n",
              "      <td>46311.6</td>\n",
              "      <td>1</td>\n",
              "      <td>0</td>\n",
              "      <td>13-09-2013</td>\n",
              "      <td>49</td>\n",
              "      <td>3</td>\n",
              "      <td>4</td>\n",
              "      <td>1</td>\n",
              "      <td>3</td>\n",
              "      <td>56</td>\n",
              "      <td>15</td>\n",
              "      <td>49</td>\n",
              "      <td>17</td>\n",
              "      <td>24</td>\n",
              "      <td>24</td>\n",
              "      <td>8</td>\n",
              "      <td>0</td>\n",
              "      <td>0</td>\n",
              "      <td>0</td>\n",
              "      <td>0</td>\n",
              "      <td>0</td>\n",
              "      <td>0</td>\n",
              "      <td>0</td>\n",
              "    </tr>\n",
              "    <tr>\n",
              "      <th>4</th>\n",
              "      <td>ID_QVLWGPRN</td>\n",
              "      <td>1959</td>\n",
              "      <td>Graduation</td>\n",
              "      <td>Married</td>\n",
              "      <td>87486.0</td>\n",
              "      <td>0</td>\n",
              "      <td>0</td>\n",
              "      <td>21-01-2014</td>\n",
              "      <td>59</td>\n",
              "      <td>1</td>\n",
              "      <td>3</td>\n",
              "      <td>7</td>\n",
              "      <td>9</td>\n",
              "      <td>412</td>\n",
              "      <td>117</td>\n",
              "      <td>445</td>\n",
              "      <td>181</td>\n",
              "      <td>165</td>\n",
              "      <td>203</td>\n",
              "      <td>1</td>\n",
              "      <td>0</td>\n",
              "      <td>0</td>\n",
              "      <td>0</td>\n",
              "      <td>1</td>\n",
              "      <td>0</td>\n",
              "      <td>0</td>\n",
              "      <td>0</td>\n",
              "    </tr>\n",
              "  </tbody>\n",
              "</table>\n",
              "</div>"
            ],
            "text/plain": [
              "            ID  Year_of_Birth  ... Any_Complain Response\n",
              "0  ID_4A9AR6FQ           1955  ...            0        0\n",
              "1  ID_X28T3VEK           1958  ...            0        0\n",
              "2  ID_AWXARH57           1962  ...            0        1\n",
              "3  ID_FQVZHE81           1979  ...            0        0\n",
              "4  ID_QVLWGPRN           1959  ...            0        0\n",
              "\n",
              "[5 rows x 27 columns]"
            ]
          },
          "metadata": {},
          "execution_count": 2
        }
      ]
    },
    {
      "cell_type": "code",
      "metadata": {
        "colab": {
          "base_uri": "https://localhost:8080/",
          "height": 225
        },
        "id": "7vDaDcOyfjVe",
        "outputId": "5101f292-3524-4a5b-b29a-e7bb4ee2ba4a"
      },
      "source": [
        "test = pd.read_csv(\"/content/Test.csv\")\n",
        "ID = test['ID']\n",
        "test.head()"
      ],
      "execution_count": 3,
      "outputs": [
        {
          "output_type": "execute_result",
          "data": {
            "text/html": [
              "<div>\n",
              "<style scoped>\n",
              "    .dataframe tbody tr th:only-of-type {\n",
              "        vertical-align: middle;\n",
              "    }\n",
              "\n",
              "    .dataframe tbody tr th {\n",
              "        vertical-align: top;\n",
              "    }\n",
              "\n",
              "    .dataframe thead th {\n",
              "        text-align: right;\n",
              "    }\n",
              "</style>\n",
              "<table border=\"1\" class=\"dataframe\">\n",
              "  <thead>\n",
              "    <tr style=\"text-align: right;\">\n",
              "      <th></th>\n",
              "      <th>ID</th>\n",
              "      <th>Year_of_Birth</th>\n",
              "      <th>Education_Level</th>\n",
              "      <th>Marital_Status</th>\n",
              "      <th>Disposable_Income</th>\n",
              "      <th>No_of_Kids_in_home</th>\n",
              "      <th>No_of_Teen_in_home</th>\n",
              "      <th>Date_Customer</th>\n",
              "      <th>Recency</th>\n",
              "      <th>Discounted_Purchases</th>\n",
              "      <th>WebPurchases</th>\n",
              "      <th>CatalogPurchases</th>\n",
              "      <th>StorePurchases</th>\n",
              "      <th>Amount_on_Wines</th>\n",
              "      <th>Amount_on_Fruits</th>\n",
              "      <th>Amount_on_MeatProducts</th>\n",
              "      <th>Amount_on_FishProducts</th>\n",
              "      <th>Amount_on_SweetProducts</th>\n",
              "      <th>Amount_on_GoldProds</th>\n",
              "      <th>WebVisitsMonth</th>\n",
              "      <th>Cmp3Accepted</th>\n",
              "      <th>Cmp4Accepted</th>\n",
              "      <th>Cmp5Accepted</th>\n",
              "      <th>Cmp1Accepted</th>\n",
              "      <th>Cmp2Accepted</th>\n",
              "      <th>Any_Complain</th>\n",
              "    </tr>\n",
              "  </thead>\n",
              "  <tbody>\n",
              "    <tr>\n",
              "      <th>0</th>\n",
              "      <td>ID_ZPMABNVX</td>\n",
              "      <td>1954</td>\n",
              "      <td>Graduation</td>\n",
              "      <td>Single</td>\n",
              "      <td>48556.8</td>\n",
              "      <td>0</td>\n",
              "      <td>1</td>\n",
              "      <td>11-01-2013</td>\n",
              "      <td>85</td>\n",
              "      <td>6</td>\n",
              "      <td>8</td>\n",
              "      <td>2</td>\n",
              "      <td>8</td>\n",
              "      <td>429</td>\n",
              "      <td>20</td>\n",
              "      <td>118</td>\n",
              "      <td>7</td>\n",
              "      <td>23</td>\n",
              "      <td>41</td>\n",
              "      <td>8</td>\n",
              "      <td>0</td>\n",
              "      <td>0</td>\n",
              "      <td>0</td>\n",
              "      <td>0</td>\n",
              "      <td>0</td>\n",
              "      <td>0</td>\n",
              "    </tr>\n",
              "    <tr>\n",
              "      <th>1</th>\n",
              "      <td>ID_WFE91NAA</td>\n",
              "      <td>1961</td>\n",
              "      <td>Graduation</td>\n",
              "      <td>Widow</td>\n",
              "      <td>57499.2</td>\n",
              "      <td>0</td>\n",
              "      <td>1</td>\n",
              "      <td>22-11-2012</td>\n",
              "      <td>79</td>\n",
              "      <td>5</td>\n",
              "      <td>7</td>\n",
              "      <td>4</td>\n",
              "      <td>6</td>\n",
              "      <td>510</td>\n",
              "      <td>3</td>\n",
              "      <td>26</td>\n",
              "      <td>0</td>\n",
              "      <td>0</td>\n",
              "      <td>75</td>\n",
              "      <td>6</td>\n",
              "      <td>0</td>\n",
              "      <td>1</td>\n",
              "      <td>0</td>\n",
              "      <td>0</td>\n",
              "      <td>0</td>\n",
              "      <td>0</td>\n",
              "    </tr>\n",
              "    <tr>\n",
              "      <th>2</th>\n",
              "      <td>ID_JV11RBRK</td>\n",
              "      <td>1973</td>\n",
              "      <td>Basic</td>\n",
              "      <td>Married</td>\n",
              "      <td>17025.6</td>\n",
              "      <td>0</td>\n",
              "      <td>0</td>\n",
              "      <td>28-02-2013</td>\n",
              "      <td>47</td>\n",
              "      <td>1</td>\n",
              "      <td>2</td>\n",
              "      <td>0</td>\n",
              "      <td>4</td>\n",
              "      <td>7</td>\n",
              "      <td>10</td>\n",
              "      <td>11</td>\n",
              "      <td>16</td>\n",
              "      <td>12</td>\n",
              "      <td>27</td>\n",
              "      <td>6</td>\n",
              "      <td>0</td>\n",
              "      <td>0</td>\n",
              "      <td>0</td>\n",
              "      <td>0</td>\n",
              "      <td>0</td>\n",
              "      <td>0</td>\n",
              "    </tr>\n",
              "    <tr>\n",
              "      <th>3</th>\n",
              "      <td>ID_6B7SVKY9</td>\n",
              "      <td>1970</td>\n",
              "      <td>Graduation</td>\n",
              "      <td>Together</td>\n",
              "      <td>91983.6</td>\n",
              "      <td>0</td>\n",
              "      <td>0</td>\n",
              "      <td>16-08-2013</td>\n",
              "      <td>98</td>\n",
              "      <td>1</td>\n",
              "      <td>4</td>\n",
              "      <td>7</td>\n",
              "      <td>11</td>\n",
              "      <td>741</td>\n",
              "      <td>66</td>\n",
              "      <td>946</td>\n",
              "      <td>219</td>\n",
              "      <td>189</td>\n",
              "      <td>126</td>\n",
              "      <td>2</td>\n",
              "      <td>0</td>\n",
              "      <td>0</td>\n",
              "      <td>1</td>\n",
              "      <td>1</td>\n",
              "      <td>0</td>\n",
              "      <td>0</td>\n",
              "    </tr>\n",
              "    <tr>\n",
              "      <th>4</th>\n",
              "      <td>ID_GOVUZ545</td>\n",
              "      <td>1959</td>\n",
              "      <td>Graduation</td>\n",
              "      <td>Together</td>\n",
              "      <td>78235.2</td>\n",
              "      <td>0</td>\n",
              "      <td>2</td>\n",
              "      <td>25-07-2013</td>\n",
              "      <td>41</td>\n",
              "      <td>2</td>\n",
              "      <td>7</td>\n",
              "      <td>6</td>\n",
              "      <td>11</td>\n",
              "      <td>748</td>\n",
              "      <td>22</td>\n",
              "      <td>181</td>\n",
              "      <td>12</td>\n",
              "      <td>0</td>\n",
              "      <td>200</td>\n",
              "      <td>5</td>\n",
              "      <td>1</td>\n",
              "      <td>0</td>\n",
              "      <td>0</td>\n",
              "      <td>0</td>\n",
              "      <td>0</td>\n",
              "      <td>0</td>\n",
              "    </tr>\n",
              "  </tbody>\n",
              "</table>\n",
              "</div>"
            ],
            "text/plain": [
              "            ID  Year_of_Birth  ... Cmp2Accepted Any_Complain\n",
              "0  ID_ZPMABNVX           1954  ...            0            0\n",
              "1  ID_WFE91NAA           1961  ...            0            0\n",
              "2  ID_JV11RBRK           1973  ...            0            0\n",
              "3  ID_6B7SVKY9           1970  ...            0            0\n",
              "4  ID_GOVUZ545           1959  ...            0            0\n",
              "\n",
              "[5 rows x 26 columns]"
            ]
          },
          "metadata": {},
          "execution_count": 3
        }
      ]
    },
    {
      "cell_type": "code",
      "metadata": {
        "colab": {
          "base_uri": "https://localhost:8080/",
          "height": 112
        },
        "id": "PFnHCFAefjTJ",
        "outputId": "afbdf6ae-a977-4c26-e8ac-464ffcec1e81"
      },
      "source": [
        "sub = pd.read_csv(\"/content/SampleSubmission.csv\")\n",
        "sub.head(2)"
      ],
      "execution_count": 4,
      "outputs": [
        {
          "output_type": "execute_result",
          "data": {
            "text/html": [
              "<div>\n",
              "<style scoped>\n",
              "    .dataframe tbody tr th:only-of-type {\n",
              "        vertical-align: middle;\n",
              "    }\n",
              "\n",
              "    .dataframe tbody tr th {\n",
              "        vertical-align: top;\n",
              "    }\n",
              "\n",
              "    .dataframe thead th {\n",
              "        text-align: right;\n",
              "    }\n",
              "</style>\n",
              "<table border=\"1\" class=\"dataframe\">\n",
              "  <thead>\n",
              "    <tr style=\"text-align: right;\">\n",
              "      <th></th>\n",
              "      <th>ID</th>\n",
              "      <th>Response</th>\n",
              "    </tr>\n",
              "  </thead>\n",
              "  <tbody>\n",
              "    <tr>\n",
              "      <th>0</th>\n",
              "      <td>ID_ZPMABNVX</td>\n",
              "      <td>NaN</td>\n",
              "    </tr>\n",
              "    <tr>\n",
              "      <th>1</th>\n",
              "      <td>ID_WFE91NAA</td>\n",
              "      <td>NaN</td>\n",
              "    </tr>\n",
              "  </tbody>\n",
              "</table>\n",
              "</div>"
            ],
            "text/plain": [
              "            ID  Response\n",
              "0  ID_ZPMABNVX       NaN\n",
              "1  ID_WFE91NAA       NaN"
            ]
          },
          "metadata": {},
          "execution_count": 4
        }
      ]
    },
    {
      "cell_type": "markdown",
      "metadata": {
        "id": "OQ0pz6UkqhQp"
      },
      "source": [
        "## Exploratory Data Analysis"
      ]
    },
    {
      "cell_type": "code",
      "metadata": {
        "colab": {
          "base_uri": "https://localhost:8080/"
        },
        "id": "2iaNZOJffjQo",
        "outputId": "c620edeb-c2f6-427a-abc7-b9371b1fb646"
      },
      "source": [
        "train.shape, test.shape"
      ],
      "execution_count": 5,
      "outputs": [
        {
          "output_type": "execute_result",
          "data": {
            "text/plain": [
              "((1568, 27), (672, 26))"
            ]
          },
          "metadata": {},
          "execution_count": 5
        }
      ]
    },
    {
      "cell_type": "code",
      "metadata": {
        "colab": {
          "base_uri": "https://localhost:8080/"
        },
        "id": "Fr4CxHh6fjOU",
        "outputId": "9061df40-4c9e-4469-9a48-c7a4e271250c"
      },
      "source": [
        "train.isnull().sum()"
      ],
      "execution_count": 6,
      "outputs": [
        {
          "output_type": "execute_result",
          "data": {
            "text/plain": [
              "ID                          0\n",
              "Year_of_Birth               0\n",
              "Education_Level             0\n",
              "Marital_Status              0\n",
              "Disposable_Income          16\n",
              "No_of_Kids_in_home          0\n",
              "No_of_Teen_in_home          0\n",
              "Date_Customer               0\n",
              "Recency                     0\n",
              "Discounted_Purchases        0\n",
              "WebPurchases                0\n",
              "CatalogPurchases            0\n",
              "StorePurchases              0\n",
              "Amount_on_Wines             0\n",
              "Amount_on_Fruits            0\n",
              "Amount_on_MeatProducts      0\n",
              "Amount_on_FishProducts      0\n",
              "Amount_on_SweetProducts     0\n",
              "Amount_on_GoldProds         0\n",
              "WebVisitsMonth              0\n",
              "Cmp3Accepted                0\n",
              "Cmp4Accepted                0\n",
              "Cmp5Accepted                0\n",
              "Cmp1Accepted                0\n",
              "Cmp2Accepted                0\n",
              "Any_Complain                0\n",
              "Response                    0\n",
              "dtype: int64"
            ]
          },
          "metadata": {},
          "execution_count": 6
        }
      ]
    },
    {
      "cell_type": "code",
      "metadata": {
        "colab": {
          "base_uri": "https://localhost:8080/"
        },
        "id": "XBnW9j6mfjL5",
        "outputId": "b7884dbb-ea25-4585-9ea4-fbf937595d5d"
      },
      "source": [
        "test.isnull().sum()"
      ],
      "execution_count": 7,
      "outputs": [
        {
          "output_type": "execute_result",
          "data": {
            "text/plain": [
              "ID                         0\n",
              "Year_of_Birth              0\n",
              "Education_Level            0\n",
              "Marital_Status             0\n",
              "Disposable_Income          8\n",
              "No_of_Kids_in_home         0\n",
              "No_of_Teen_in_home         0\n",
              "Date_Customer              0\n",
              "Recency                    0\n",
              "Discounted_Purchases       0\n",
              "WebPurchases               0\n",
              "CatalogPurchases           0\n",
              "StorePurchases             0\n",
              "Amount_on_Wines            0\n",
              "Amount_on_Fruits           0\n",
              "Amount_on_MeatProducts     0\n",
              "Amount_on_FishProducts     0\n",
              "Amount_on_SweetProducts    0\n",
              "Amount_on_GoldProds        0\n",
              "WebVisitsMonth             0\n",
              "Cmp3Accepted               0\n",
              "Cmp4Accepted               0\n",
              "Cmp5Accepted               0\n",
              "Cmp1Accepted               0\n",
              "Cmp2Accepted               0\n",
              "Any_Complain               0\n",
              "dtype: int64"
            ]
          },
          "metadata": {},
          "execution_count": 7
        }
      ]
    },
    {
      "cell_type": "code",
      "metadata": {
        "colab": {
          "base_uri": "https://localhost:8080/"
        },
        "id": "aSpNJtrpfjJe",
        "outputId": "4fa1b6eb-6234-4c2e-ef03-4d0b6714e00b"
      },
      "source": [
        "train.info()"
      ],
      "execution_count": 8,
      "outputs": [
        {
          "output_type": "stream",
          "name": "stdout",
          "text": [
            "<class 'pandas.core.frame.DataFrame'>\n",
            "RangeIndex: 1568 entries, 0 to 1567\n",
            "Data columns (total 27 columns):\n",
            " #   Column                   Non-Null Count  Dtype  \n",
            "---  ------                   --------------  -----  \n",
            " 0   ID                       1568 non-null   object \n",
            " 1   Year_of_Birth            1568 non-null   int64  \n",
            " 2   Education_Level          1568 non-null   object \n",
            " 3   Marital_Status           1568 non-null   object \n",
            " 4   Disposable_Income        1552 non-null   float64\n",
            " 5   No_of_Kids_in_home       1568 non-null   int64  \n",
            " 6   No_of_Teen_in_home       1568 non-null   int64  \n",
            " 7   Date_Customer            1568 non-null   object \n",
            " 8   Recency                  1568 non-null   int64  \n",
            " 9   Discounted_Purchases     1568 non-null   int64  \n",
            " 10  WebPurchases             1568 non-null   int64  \n",
            " 11  CatalogPurchases         1568 non-null   int64  \n",
            " 12  StorePurchases           1568 non-null   int64  \n",
            " 13  Amount_on_Wines          1568 non-null   int64  \n",
            " 14  Amount_on_Fruits         1568 non-null   int64  \n",
            " 15  Amount_on_MeatProducts   1568 non-null   int64  \n",
            " 16  Amount_on_FishProducts   1568 non-null   int64  \n",
            " 17  Amount_on_SweetProducts  1568 non-null   int64  \n",
            " 18  Amount_on_GoldProds      1568 non-null   int64  \n",
            " 19  WebVisitsMonth           1568 non-null   int64  \n",
            " 20  Cmp3Accepted             1568 non-null   int64  \n",
            " 21  Cmp4Accepted             1568 non-null   int64  \n",
            " 22  Cmp5Accepted             1568 non-null   int64  \n",
            " 23  Cmp1Accepted             1568 non-null   int64  \n",
            " 24  Cmp2Accepted             1568 non-null   int64  \n",
            " 25  Any_Complain             1568 non-null   int64  \n",
            " 26  Response                 1568 non-null   int64  \n",
            "dtypes: float64(1), int64(22), object(4)\n",
            "memory usage: 330.9+ KB\n"
          ]
        }
      ]
    },
    {
      "cell_type": "code",
      "metadata": {
        "colab": {
          "base_uri": "https://localhost:8080/",
          "height": 768
        },
        "id": "4HmQ5_Q2fjG1",
        "outputId": "59707c2c-69ea-42f1-c8f7-11dd5ed20ddd"
      },
      "source": [
        "train.describe().T"
      ],
      "execution_count": 9,
      "outputs": [
        {
          "output_type": "execute_result",
          "data": {
            "text/html": [
              "<div>\n",
              "<style scoped>\n",
              "    .dataframe tbody tr th:only-of-type {\n",
              "        vertical-align: middle;\n",
              "    }\n",
              "\n",
              "    .dataframe tbody tr th {\n",
              "        vertical-align: top;\n",
              "    }\n",
              "\n",
              "    .dataframe thead th {\n",
              "        text-align: right;\n",
              "    }\n",
              "</style>\n",
              "<table border=\"1\" class=\"dataframe\">\n",
              "  <thead>\n",
              "    <tr style=\"text-align: right;\">\n",
              "      <th></th>\n",
              "      <th>count</th>\n",
              "      <th>mean</th>\n",
              "      <th>std</th>\n",
              "      <th>min</th>\n",
              "      <th>25%</th>\n",
              "      <th>50%</th>\n",
              "      <th>75%</th>\n",
              "      <th>max</th>\n",
              "    </tr>\n",
              "  </thead>\n",
              "  <tbody>\n",
              "    <tr>\n",
              "      <th>Year_of_Birth</th>\n",
              "      <td>1568.0</td>\n",
              "      <td>1970.073342</td>\n",
              "      <td>11.920781</td>\n",
              "      <td>1900.0</td>\n",
              "      <td>1960.0</td>\n",
              "      <td>1971.0</td>\n",
              "      <td>1979.00</td>\n",
              "      <td>1997.0</td>\n",
              "    </tr>\n",
              "    <tr>\n",
              "      <th>Disposable_Income</th>\n",
              "      <td>1552.0</td>\n",
              "      <td>62381.186598</td>\n",
              "      <td>32089.169563</td>\n",
              "      <td>2076.0</td>\n",
              "      <td>41612.4</td>\n",
              "      <td>60964.2</td>\n",
              "      <td>81493.20</td>\n",
              "      <td>799999.2</td>\n",
              "    </tr>\n",
              "    <tr>\n",
              "      <th>No_of_Kids_in_home</th>\n",
              "      <td>1568.0</td>\n",
              "      <td>0.460459</td>\n",
              "      <td>0.540361</td>\n",
              "      <td>0.0</td>\n",
              "      <td>0.0</td>\n",
              "      <td>0.0</td>\n",
              "      <td>1.00</td>\n",
              "      <td>2.0</td>\n",
              "    </tr>\n",
              "    <tr>\n",
              "      <th>No_of_Teen_in_home</th>\n",
              "      <td>1568.0</td>\n",
              "      <td>0.497449</td>\n",
              "      <td>0.544151</td>\n",
              "      <td>0.0</td>\n",
              "      <td>0.0</td>\n",
              "      <td>0.0</td>\n",
              "      <td>1.00</td>\n",
              "      <td>2.0</td>\n",
              "    </tr>\n",
              "    <tr>\n",
              "      <th>Recency</th>\n",
              "      <td>1568.0</td>\n",
              "      <td>55.408801</td>\n",
              "      <td>28.788037</td>\n",
              "      <td>7.0</td>\n",
              "      <td>31.0</td>\n",
              "      <td>56.0</td>\n",
              "      <td>80.00</td>\n",
              "      <td>106.0</td>\n",
              "    </tr>\n",
              "    <tr>\n",
              "      <th>Discounted_Purchases</th>\n",
              "      <td>1568.0</td>\n",
              "      <td>2.292730</td>\n",
              "      <td>1.937544</td>\n",
              "      <td>0.0</td>\n",
              "      <td>1.0</td>\n",
              "      <td>2.0</td>\n",
              "      <td>3.00</td>\n",
              "      <td>15.0</td>\n",
              "    </tr>\n",
              "    <tr>\n",
              "      <th>WebPurchases</th>\n",
              "      <td>1568.0</td>\n",
              "      <td>4.001276</td>\n",
              "      <td>2.773748</td>\n",
              "      <td>0.0</td>\n",
              "      <td>2.0</td>\n",
              "      <td>3.0</td>\n",
              "      <td>6.00</td>\n",
              "      <td>27.0</td>\n",
              "    </tr>\n",
              "    <tr>\n",
              "      <th>CatalogPurchases</th>\n",
              "      <td>1568.0</td>\n",
              "      <td>2.665816</td>\n",
              "      <td>3.043493</td>\n",
              "      <td>0.0</td>\n",
              "      <td>0.0</td>\n",
              "      <td>2.0</td>\n",
              "      <td>4.00</td>\n",
              "      <td>28.0</td>\n",
              "    </tr>\n",
              "    <tr>\n",
              "      <th>StorePurchases</th>\n",
              "      <td>1568.0</td>\n",
              "      <td>5.703444</td>\n",
              "      <td>3.260553</td>\n",
              "      <td>0.0</td>\n",
              "      <td>3.0</td>\n",
              "      <td>5.0</td>\n",
              "      <td>8.00</td>\n",
              "      <td>13.0</td>\n",
              "    </tr>\n",
              "    <tr>\n",
              "      <th>Amount_on_Wines</th>\n",
              "      <td>1568.0</td>\n",
              "      <td>303.190051</td>\n",
              "      <td>340.141396</td>\n",
              "      <td>5.0</td>\n",
              "      <td>27.0</td>\n",
              "      <td>167.0</td>\n",
              "      <td>499.50</td>\n",
              "      <td>1498.0</td>\n",
              "    </tr>\n",
              "    <tr>\n",
              "      <th>Amount_on_Fruits</th>\n",
              "      <td>1568.0</td>\n",
              "      <td>29.091199</td>\n",
              "      <td>39.565637</td>\n",
              "      <td>3.0</td>\n",
              "      <td>4.0</td>\n",
              "      <td>11.0</td>\n",
              "      <td>36.00</td>\n",
              "      <td>202.0</td>\n",
              "    </tr>\n",
              "    <tr>\n",
              "      <th>Amount_on_MeatProducts</th>\n",
              "      <td>1568.0</td>\n",
              "      <td>168.376276</td>\n",
              "      <td>233.419980</td>\n",
              "      <td>0.0</td>\n",
              "      <td>15.0</td>\n",
              "      <td>64.0</td>\n",
              "      <td>232.00</td>\n",
              "      <td>1725.0</td>\n",
              "    </tr>\n",
              "    <tr>\n",
              "      <th>Amount_on_FishProducts</th>\n",
              "      <td>1568.0</td>\n",
              "      <td>37.166454</td>\n",
              "      <td>53.994951</td>\n",
              "      <td>0.0</td>\n",
              "      <td>3.0</td>\n",
              "      <td>12.0</td>\n",
              "      <td>49.25</td>\n",
              "      <td>259.0</td>\n",
              "    </tr>\n",
              "    <tr>\n",
              "      <th>Amount_on_SweetProducts</th>\n",
              "      <td>1568.0</td>\n",
              "      <td>26.800383</td>\n",
              "      <td>40.857657</td>\n",
              "      <td>0.0</td>\n",
              "      <td>1.0</td>\n",
              "      <td>8.0</td>\n",
              "      <td>33.00</td>\n",
              "      <td>263.0</td>\n",
              "    </tr>\n",
              "    <tr>\n",
              "      <th>Amount_on_GoldProds</th>\n",
              "      <td>1568.0</td>\n",
              "      <td>43.739158</td>\n",
              "      <td>51.591557</td>\n",
              "      <td>0.0</td>\n",
              "      <td>8.0</td>\n",
              "      <td>25.0</td>\n",
              "      <td>56.00</td>\n",
              "      <td>362.0</td>\n",
              "    </tr>\n",
              "    <tr>\n",
              "      <th>WebVisitsMonth</th>\n",
              "      <td>1568.0</td>\n",
              "      <td>5.326531</td>\n",
              "      <td>2.468023</td>\n",
              "      <td>0.0</td>\n",
              "      <td>3.0</td>\n",
              "      <td>6.0</td>\n",
              "      <td>7.00</td>\n",
              "      <td>20.0</td>\n",
              "    </tr>\n",
              "    <tr>\n",
              "      <th>Cmp3Accepted</th>\n",
              "      <td>1568.0</td>\n",
              "      <td>0.072704</td>\n",
              "      <td>0.259733</td>\n",
              "      <td>0.0</td>\n",
              "      <td>0.0</td>\n",
              "      <td>0.0</td>\n",
              "      <td>0.00</td>\n",
              "      <td>1.0</td>\n",
              "    </tr>\n",
              "    <tr>\n",
              "      <th>Cmp4Accepted</th>\n",
              "      <td>1568.0</td>\n",
              "      <td>0.072704</td>\n",
              "      <td>0.259733</td>\n",
              "      <td>0.0</td>\n",
              "      <td>0.0</td>\n",
              "      <td>0.0</td>\n",
              "      <td>0.00</td>\n",
              "      <td>1.0</td>\n",
              "    </tr>\n",
              "    <tr>\n",
              "      <th>Cmp5Accepted</th>\n",
              "      <td>1568.0</td>\n",
              "      <td>0.080357</td>\n",
              "      <td>0.271932</td>\n",
              "      <td>0.0</td>\n",
              "      <td>0.0</td>\n",
              "      <td>0.0</td>\n",
              "      <td>0.00</td>\n",
              "      <td>1.0</td>\n",
              "    </tr>\n",
              "    <tr>\n",
              "      <th>Cmp1Accepted</th>\n",
              "      <td>1568.0</td>\n",
              "      <td>0.064413</td>\n",
              "      <td>0.245566</td>\n",
              "      <td>0.0</td>\n",
              "      <td>0.0</td>\n",
              "      <td>0.0</td>\n",
              "      <td>0.00</td>\n",
              "      <td>1.0</td>\n",
              "    </tr>\n",
              "    <tr>\n",
              "      <th>Cmp2Accepted</th>\n",
              "      <td>1568.0</td>\n",
              "      <td>0.012755</td>\n",
              "      <td>0.112252</td>\n",
              "      <td>0.0</td>\n",
              "      <td>0.0</td>\n",
              "      <td>0.0</td>\n",
              "      <td>0.00</td>\n",
              "      <td>1.0</td>\n",
              "    </tr>\n",
              "    <tr>\n",
              "      <th>Any_Complain</th>\n",
              "      <td>1568.0</td>\n",
              "      <td>0.008291</td>\n",
              "      <td>0.090705</td>\n",
              "      <td>0.0</td>\n",
              "      <td>0.0</td>\n",
              "      <td>0.0</td>\n",
              "      <td>0.00</td>\n",
              "      <td>1.0</td>\n",
              "    </tr>\n",
              "    <tr>\n",
              "      <th>Response</th>\n",
              "      <td>1568.0</td>\n",
              "      <td>0.152423</td>\n",
              "      <td>0.359546</td>\n",
              "      <td>0.0</td>\n",
              "      <td>0.0</td>\n",
              "      <td>0.0</td>\n",
              "      <td>0.00</td>\n",
              "      <td>1.0</td>\n",
              "    </tr>\n",
              "  </tbody>\n",
              "</table>\n",
              "</div>"
            ],
            "text/plain": [
              "                          count          mean  ...       75%       max\n",
              "Year_of_Birth            1568.0   1970.073342  ...   1979.00    1997.0\n",
              "Disposable_Income        1552.0  62381.186598  ...  81493.20  799999.2\n",
              "No_of_Kids_in_home       1568.0      0.460459  ...      1.00       2.0\n",
              "No_of_Teen_in_home       1568.0      0.497449  ...      1.00       2.0\n",
              "Recency                  1568.0     55.408801  ...     80.00     106.0\n",
              "Discounted_Purchases     1568.0      2.292730  ...      3.00      15.0\n",
              "WebPurchases             1568.0      4.001276  ...      6.00      27.0\n",
              "CatalogPurchases         1568.0      2.665816  ...      4.00      28.0\n",
              "StorePurchases           1568.0      5.703444  ...      8.00      13.0\n",
              "Amount_on_Wines          1568.0    303.190051  ...    499.50    1498.0\n",
              "Amount_on_Fruits         1568.0     29.091199  ...     36.00     202.0\n",
              "Amount_on_MeatProducts   1568.0    168.376276  ...    232.00    1725.0\n",
              "Amount_on_FishProducts   1568.0     37.166454  ...     49.25     259.0\n",
              "Amount_on_SweetProducts  1568.0     26.800383  ...     33.00     263.0\n",
              "Amount_on_GoldProds      1568.0     43.739158  ...     56.00     362.0\n",
              "WebVisitsMonth           1568.0      5.326531  ...      7.00      20.0\n",
              "Cmp3Accepted             1568.0      0.072704  ...      0.00       1.0\n",
              "Cmp4Accepted             1568.0      0.072704  ...      0.00       1.0\n",
              "Cmp5Accepted             1568.0      0.080357  ...      0.00       1.0\n",
              "Cmp1Accepted             1568.0      0.064413  ...      0.00       1.0\n",
              "Cmp2Accepted             1568.0      0.012755  ...      0.00       1.0\n",
              "Any_Complain             1568.0      0.008291  ...      0.00       1.0\n",
              "Response                 1568.0      0.152423  ...      0.00       1.0\n",
              "\n",
              "[23 rows x 8 columns]"
            ]
          },
          "metadata": {},
          "execution_count": 9
        }
      ]
    },
    {
      "cell_type": "code",
      "metadata": {
        "colab": {
          "base_uri": "https://localhost:8080/",
          "height": 387
        },
        "id": "7zgyGYB-fjEl",
        "outputId": "2fff9228-7457-490d-dbd1-64d8c5b86820"
      },
      "source": [
        "#filling the only missing value in train['Disposable_Income']; a displot will tell us how best to fill it\n",
        "\n",
        "sns.displot(train['Disposable_Income'])"
      ],
      "execution_count": 10,
      "outputs": [
        {
          "output_type": "execute_result",
          "data": {
            "text/plain": [
              "<seaborn.axisgrid.FacetGrid at 0x7f404dacffd0>"
            ]
          },
          "metadata": {},
          "execution_count": 10
        },
        {
          "output_type": "display_data",
          "data": {
            "image/png": "[encoded data removed]",
            "text/plain": [
              "<Figure size 360x360 with 1 Axes>"
            ]
          },
          "metadata": {
            "needs_background": "light"
          }
        }
      ]
    },
    {
      "cell_type": "code",
      "metadata": {
        "id": "MGbS5fX42vFc"
      },
      "source": [
        "#Fill missing values with 25% quartile from describe above\n",
        "\n",
        "train['Disposable_Income'] = train['Disposable_Income'].fillna(41612.4)\n",
        "test['Disposable_Income'] = test['Disposable_Income'].fillna(41612.4)"
      ],
      "execution_count": 11,
      "outputs": []
    },
    {
      "cell_type": "code",
      "metadata": {
        "colab": {
          "base_uri": "https://localhost:8080/"
        },
        "id": "WKn4mtAsE65n",
        "outputId": "676c0e93-a080-4a38-a392-adf48ef412b1"
      },
      "source": [
        "train['Response'].value_counts()"
      ],
      "execution_count": 12,
      "outputs": [
        {
          "output_type": "execute_result",
          "data": {
            "text/plain": [
              "0    1329\n",
              "1     239\n",
              "Name: Response, dtype: int64"
            ]
          },
          "metadata": {},
          "execution_count": 12
        }
      ]
    },
    {
      "cell_type": "code",
      "metadata": {
        "colab": {
          "base_uri": "https://localhost:8080/",
          "height": 429
        },
        "id": "x2PIa3FKuzTl",
        "outputId": "7868086b-51c1-44c8-8b47-60594c2c756d"
      },
      "source": [
        "train[['Response']].value_counts().plot(kind='bar', figsize=(8, 6), title=\"Response Count\")"
      ],
      "execution_count": 13,
      "outputs": [
        {
          "output_type": "execute_result",
          "data": {
            "text/plain": [
              "<matplotlib.axes._subplots.AxesSubplot at 0x7f4030392450>"
            ]
          },
          "metadata": {},
          "execution_count": 13
        },
        {
          "output_type": "display_data",
          "data": {
            "image/png": "[encoded data removed]",
            "text/plain": [
              "<Figure size 576x432 with 1 Axes>"
            ]
          },
          "metadata": {
            "needs_background": "light"
          }
        }
      ]
    },
    {
      "cell_type": "code",
      "metadata": {
        "colab": {
          "base_uri": "https://localhost:8080/",
          "height": 581
        },
        "id": "SCLCq9Rrt0Bx",
        "outputId": "357ed7ec-b828-4e27-c66a-3a2d0c3fd3a6"
      },
      "source": [
        "plt.figure(figsize=(16,9))\n",
        "sns.heatmap(train.corr(), annot=True)\n",
        "plt.title(\"Correlation Between Features\", fontsize=23)\n",
        "plt.show()"
      ],
      "execution_count": 14,
      "outputs": [
        {
          "output_type": "display_data",
          "data": {
            "image/png": "[encoded data removed]",
            "text/plain": [
              "<Figure size 1152x648 with 2 Axes>"
            ]
          },
          "metadata": {
            "needs_background": "light"
          }
        }
      ]
    },
    {
      "cell_type": "markdown",
      "metadata": {
        "id": "RxT6k91gt1LR"
      },
      "source": [
        "## Feature Engineering and Encoding"
      ]
    },
    {
      "cell_type": "code",
      "metadata": {
        "id": "icsB4keKCLGq"
      },
      "source": [
        "#Year of birth\n",
        "\n",
        "dataframe = [train, test]\n",
        "\n",
        "for data in dataframe:\n",
        "  data['Customer_current_Age'] = 2021 - data['Year_of_Birth']\n",
        "  col = 'Year_of_Birth'\n",
        "  conditions = [data[col] < 1950, (data[col] >= 1950) & (data[col] <= 1960), (data[col] > 1960) & (data[col] <=1970), (data[col] > 1970) & (data[col] <=1980), (data[col] > 1980) & (data[col] <=1990), data[col] > 1990]\n",
        "  choices = [1, 2, 3, 4, 5, 6]\n",
        "  data[\"Age_group\"] = np.select(conditions, choices, default=np.nan).astype(int)\n",
        "\n",
        "for data in dataframe:\n",
        "  data = data.drop(['Year_of_Birth'],axis=1)"
      ],
      "execution_count": 15,
      "outputs": []
    },
    {
      "cell_type": "code",
      "metadata": {
        "colab": {
          "base_uri": "https://localhost:8080/"
        },
        "id": "S7pBtoFutkMJ",
        "outputId": "f96d13fd-ddc7-427f-dd04-f738180ed0d3"
      },
      "source": [
        "train['Age_group'].value_counts()"
      ],
      "execution_count": 16,
      "outputs": [
        {
          "output_type": "execute_result",
          "data": {
            "text/plain": [
              "4    526\n",
              "3    344\n",
              "2    333\n",
              "5    255\n",
              "1     60\n",
              "6     50\n",
              "Name: Age_group, dtype: int64"
            ]
          },
          "metadata": {},
          "execution_count": 16
        }
      ]
    },
    {
      "cell_type": "code",
      "metadata": {
        "colab": {
          "base_uri": "https://localhost:8080/"
        },
        "id": "Tn0E-Omwtj34",
        "outputId": "692c01ea-fb70-4466-e6c7-96cefab30bda"
      },
      "source": [
        "print(train['Education_Level'].value_counts())\n",
        "print(\"-----------------------------\")\n",
        "\n",
        "print(train['Marital_Status'].value_counts())"
      ],
      "execution_count": 17,
      "outputs": [
        {
          "output_type": "stream",
          "name": "stdout",
          "text": [
            "Graduation    802\n",
            "PhD           340\n",
            "Master        246\n",
            "2n Cycle      142\n",
            "Basic          38\n",
            "Name: Education_Level, dtype: int64\n",
            "-----------------------------\n",
            "Married     615\n",
            "Together    409\n",
            "Single      329\n",
            "Divorced    159\n",
            "Widow        50\n",
            "Alone         3\n",
            "YOLO          2\n",
            "Absurd        1\n",
            "Name: Marital_Status, dtype: int64\n"
          ]
        }
      ]
    },
    {
      "cell_type": "code",
      "metadata": {
        "id": "c_iPGCrew1ST"
      },
      "source": [
        "dataframe = [train, test]\n",
        "\n",
        "for data in dataframe:\n",
        "  data['Marital_Status'] = data['Marital_Status'].replace(['Alone', 'YOLO', 'Absurd'], 'Single')   "
      ],
      "execution_count": 18,
      "outputs": []
    },
    {
      "cell_type": "code",
      "metadata": {
        "colab": {
          "base_uri": "https://localhost:8080/"
        },
        "id": "4eFqxuNt5GEr",
        "outputId": "caaa29b6-39d6-4880-8ee5-10a79cf6e9ad"
      },
      "source": [
        "#for Education level\n",
        "def transform_edu(Education):\n",
        "  if Education == 'PhD':\n",
        "    return 4\n",
        "  elif Education == 'Master':\n",
        "    return 3\n",
        "  elif Education == 'Graduation':\n",
        "    return 2\n",
        "  elif Education == '2n Cycle':\n",
        "    return 1  \n",
        "  else:\n",
        "    return 0      \n",
        "\n",
        "test['Education'] = test['Education_Level'].apply(transform_edu)\n",
        "train['Education'] = train['Education_Level'].apply(transform_edu)\n",
        "\n",
        "test['Education'].value_counts()"
      ],
      "execution_count": 19,
      "outputs": [
        {
          "output_type": "execute_result",
          "data": {
            "text/plain": [
              "2    325\n",
              "4    146\n",
              "3    124\n",
              "1     61\n",
              "0     16\n",
              "Name: Education, dtype: int64"
            ]
          },
          "metadata": {},
          "execution_count": 19
        }
      ]
    },
    {
      "cell_type": "code",
      "metadata": {
        "id": "jfVyKicK6tVh"
      },
      "source": [
        "#For Marital_Status\n",
        "def transform_martial(status):\n",
        "  if status == 'Married':\n",
        "    return 1\n",
        "  elif status == 'Together':\n",
        "    return 2\n",
        "  elif status == 'Single':\n",
        "    return 3\n",
        "  elif status == 'Divorced':\n",
        "    return 4\n",
        "  else:\n",
        "    return 5        \n",
        "\n",
        "\n",
        "#test['Marital_S'] = test['Marital_Status'].apply(transform_martial)\n",
        "#train['Marital_S'] = train['Marital_Status'].apply(transform_martial)\n",
        "\n",
        "#train['Marital_S'].value_counts()"
      ],
      "execution_count": 20,
      "outputs": []
    },
    {
      "cell_type": "code",
      "metadata": {
        "colab": {
          "base_uri": "https://localhost:8080/",
          "height": 387
        },
        "id": "oEOpOdJSw1Ov",
        "outputId": "a06b080e-ebf0-4951-d80a-196408147100"
      },
      "source": [
        "#For Disposable_Income\n",
        "\n",
        "sns.displot(train['Disposable_Income'])"
      ],
      "execution_count": 21,
      "outputs": [
        {
          "output_type": "execute_result",
          "data": {
            "text/plain": [
              "<seaborn.axisgrid.FacetGrid at 0x7f402fdd8b50>"
            ]
          },
          "metadata": {},
          "execution_count": 21
        },
        {
          "output_type": "display_data",
          "data": {
            "image/png": "[encoded data removed]",
            "text/plain": [
              "<Figure size 360x360 with 1 Axes>"
            ]
          },
          "metadata": {
            "needs_background": "light"
          }
        }
      ]
    },
    {
      "cell_type": "code",
      "metadata": {
        "colab": {
          "base_uri": "https://localhost:8080/"
        },
        "id": "orV1U8uUw1MN",
        "outputId": "0e3fc8a3-ee70-4ef3-f0fb-96ff7b64c85b"
      },
      "source": [
        "#For Disposable_Income\n",
        "\n",
        "def convert_amount(amount):\n",
        "  if amount <= 41612.4:\n",
        "    return 1\n",
        "  elif amount <= 60964.2:\n",
        "    return 2\n",
        "  elif amount <= 81493.20:\n",
        "    return 3 \n",
        "  elif amount <= 100000:\n",
        "    return 4\n",
        "  else:\n",
        "    return 5  \n",
        "\n",
        "\n",
        "  \n",
        "train['disposable_amt_cat'] = train['Disposable_Income'].apply(convert_amount)\n",
        "test['disposable_amt_cat'] = test['Disposable_Income'].apply(convert_amount)\n",
        "  \n",
        "\n",
        "train['disposable_amt_cat'].value_counts()"
      ],
      "execution_count": 22,
      "outputs": [
        {
          "output_type": "execute_result",
          "data": {
            "text/plain": [
              "1    404\n",
              "3    389\n",
              "2    388\n",
              "4    299\n",
              "5     88\n",
              "Name: disposable_amt_cat, dtype: int64"
            ]
          },
          "metadata": {},
          "execution_count": 22
        }
      ]
    },
    {
      "cell_type": "code",
      "metadata": {
        "colab": {
          "base_uri": "https://localhost:8080/"
        },
        "id": "WbchgZ5nGZvc",
        "outputId": "dc11f973-de4e-49dc-e822-c2f9174b0184"
      },
      "source": [
        "train['No_of_Kids_in_home'].value_counts()"
      ],
      "execution_count": 23,
      "outputs": [
        {
          "output_type": "execute_result",
          "data": {
            "text/plain": [
              "0    880\n",
              "1    654\n",
              "2     34\n",
              "Name: No_of_Kids_in_home, dtype: int64"
            ]
          },
          "metadata": {},
          "execution_count": 23
        }
      ]
    },
    {
      "cell_type": "markdown",
      "metadata": {
        "id": "rjvMdYd4yDw6"
      },
      "source": [
        "## Extract date features:"
      ]
    },
    {
      "cell_type": "code",
      "metadata": {
        "id": "xqz0ETuQucbJ"
      },
      "source": [
        "date_col = ['Date_Customer']\n",
        "for feat in date_col:\n",
        "    test[feat] = pd.to_datetime(test[feat])\n",
        "    train[feat] = pd.to_datetime(train[feat])"
      ],
      "execution_count": 24,
      "outputs": []
    },
    {
      "cell_type": "code",
      "metadata": {
        "id": "wNY8Bv8puoCd"
      },
      "source": [
        "def extract_date_info(df,cols,):\n",
        "    for feat in cols:\n",
        "        df[feat +'_year'] = df[feat].dt.year\n",
        "        df[feat +'_day'] = df[feat].dt.day\n",
        "        df[feat +'_month'] = df[feat].dt.month\n",
        "        df[feat +'_quarter'] = df[feat].dt.quarter\n",
        "        df[feat +'_weekday'] = df[feat].dt.weekday\n",
        "        df[feat +'_week'] = df[feat].dt.isocalendar().week\n",
        "        df[feat + '_weekend'] = (df[feat].dt.weekday >=5).astype(int)\n",
        "        df[feat +'_dayofweek'] = df[feat].dt.dayofweek\n",
        "\n",
        "extract_date_info(train,date_col)\n",
        "extract_date_info(test,date_col)"
      ],
      "execution_count": 25,
      "outputs": []
    },
    {
      "cell_type": "code",
      "metadata": {
        "id": "kMzdBvfEvB7F"
      },
      "source": [
        "train['customer_last_patronize_year'] = 2021 - train['Date_Customer_year']\n",
        "test['customer_last_patronize_year'] = 2021 - test['Date_Customer_year']"
      ],
      "execution_count": 26,
      "outputs": []
    },
    {
      "cell_type": "code",
      "metadata": {
        "colab": {
          "base_uri": "https://localhost:8080/"
        },
        "id": "qB23GSjZxG-d",
        "outputId": "9af17e5f-50e8-47e5-9fe4-f524a04b2e08"
      },
      "source": [
        "train['Date_Customer_year'].value_counts()"
      ],
      "execution_count": 27,
      "outputs": [
        {
          "output_type": "execute_result",
          "data": {
            "text/plain": [
              "2013    832\n",
              "2014    383\n",
              "2012    353\n",
              "Name: Date_Customer_year, dtype: int64"
            ]
          },
          "metadata": {},
          "execution_count": 27
        }
      ]
    },
    {
      "cell_type": "code",
      "metadata": {
        "colab": {
          "base_uri": "https://localhost:8080/"
        },
        "id": "8HjMzI-nvaQW",
        "outputId": "0fa9997a-bd38-4282-ae00-6bd2a364cef2"
      },
      "source": [
        "#For Date_Customer_year\n",
        "def convert_date(Date_Customer_year):\n",
        "  if Date_Customer_year <=2012:\n",
        "    return 1\n",
        "  elif Date_Customer_year <= 2013:\n",
        "    return 2\n",
        "  else:\n",
        "    return 3\n",
        "\n",
        "test['Customer_Date_category']  = test['Date_Customer_year'].apply(convert_date) \n",
        "train['Customer_Date_category']  = train['Date_Customer_year'].apply(convert_date)      \n",
        "\n",
        "train['Customer_Date_category'].value_counts()"
      ],
      "execution_count": 28,
      "outputs": [
        {
          "output_type": "execute_result",
          "data": {
            "text/plain": [
              "2    832\n",
              "3    383\n",
              "1    353\n",
              "Name: Customer_Date_category, dtype: int64"
            ]
          },
          "metadata": {},
          "execution_count": 28
        }
      ]
    },
    {
      "cell_type": "code",
      "metadata": {
        "colab": {
          "base_uri": "https://localhost:8080/",
          "height": 225
        },
        "id": "HwPIfdmdyJ2v",
        "outputId": "2e21694c-0cb9-4d01-b12c-fef6700d6e88"
      },
      "source": [
        "train.head()"
      ],
      "execution_count": 29,
      "outputs": [
        {
          "output_type": "execute_result",
          "data": {
            "text/html": [
              "<div>\n",
              "<style scoped>\n",
              "    .dataframe tbody tr th:only-of-type {\n",
              "        vertical-align: middle;\n",
              "    }\n",
              "\n",
              "    .dataframe tbody tr th {\n",
              "        vertical-align: top;\n",
              "    }\n",
              "\n",
              "    .dataframe thead th {\n",
              "        text-align: right;\n",
              "    }\n",
              "</style>\n",
              "<table border=\"1\" class=\"dataframe\">\n",
              "  <thead>\n",
              "    <tr style=\"text-align: right;\">\n",
              "      <th></th>\n",
              "      <th>ID</th>\n",
              "      <th>Year_of_Birth</th>\n",
              "      <th>Education_Level</th>\n",
              "      <th>Marital_Status</th>\n",
              "      <th>Disposable_Income</th>\n",
              "      <th>No_of_Kids_in_home</th>\n",
              "      <th>No_of_Teen_in_home</th>\n",
              "      <th>Date_Customer</th>\n",
              "      <th>Recency</th>\n",
              "      <th>Discounted_Purchases</th>\n",
              "      <th>WebPurchases</th>\n",
              "      <th>CatalogPurchases</th>\n",
              "      <th>StorePurchases</th>\n",
              "      <th>Amount_on_Wines</th>\n",
              "      <th>Amount_on_Fruits</th>\n",
              "      <th>Amount_on_MeatProducts</th>\n",
              "      <th>Amount_on_FishProducts</th>\n",
              "      <th>Amount_on_SweetProducts</th>\n",
              "      <th>Amount_on_GoldProds</th>\n",
              "      <th>WebVisitsMonth</th>\n",
              "      <th>Cmp3Accepted</th>\n",
              "      <th>Cmp4Accepted</th>\n",
              "      <th>Cmp5Accepted</th>\n",
              "      <th>Cmp1Accepted</th>\n",
              "      <th>Cmp2Accepted</th>\n",
              "      <th>Any_Complain</th>\n",
              "      <th>Response</th>\n",
              "      <th>Customer_current_Age</th>\n",
              "      <th>Age_group</th>\n",
              "      <th>Education</th>\n",
              "      <th>disposable_amt_cat</th>\n",
              "      <th>Date_Customer_year</th>\n",
              "      <th>Date_Customer_day</th>\n",
              "      <th>Date_Customer_month</th>\n",
              "      <th>Date_Customer_quarter</th>\n",
              "      <th>Date_Customer_weekday</th>\n",
              "      <th>Date_Customer_week</th>\n",
              "      <th>Date_Customer_weekend</th>\n",
              "      <th>Date_Customer_dayofweek</th>\n",
              "      <th>customer_last_patronize_year</th>\n",
              "      <th>Customer_Date_category</th>\n",
              "    </tr>\n",
              "  </thead>\n",
              "  <tbody>\n",
              "    <tr>\n",
              "      <th>0</th>\n",
              "      <td>ID_4A9AR6FQ</td>\n",
              "      <td>1955</td>\n",
              "      <td>Graduation</td>\n",
              "      <td>Divorced</td>\n",
              "      <td>77504.4</td>\n",
              "      <td>1</td>\n",
              "      <td>1</td>\n",
              "      <td>2014-06-22</td>\n",
              "      <td>56</td>\n",
              "      <td>2</td>\n",
              "      <td>1</td>\n",
              "      <td>1</td>\n",
              "      <td>4</td>\n",
              "      <td>71</td>\n",
              "      <td>3</td>\n",
              "      <td>16</td>\n",
              "      <td>0</td>\n",
              "      <td>6</td>\n",
              "      <td>20</td>\n",
              "      <td>3</td>\n",
              "      <td>0</td>\n",
              "      <td>0</td>\n",
              "      <td>0</td>\n",
              "      <td>0</td>\n",
              "      <td>0</td>\n",
              "      <td>0</td>\n",
              "      <td>0</td>\n",
              "      <td>66</td>\n",
              "      <td>2</td>\n",
              "      <td>2</td>\n",
              "      <td>3</td>\n",
              "      <td>2014</td>\n",
              "      <td>22</td>\n",
              "      <td>6</td>\n",
              "      <td>2</td>\n",
              "      <td>6</td>\n",
              "      <td>25</td>\n",
              "      <td>1</td>\n",
              "      <td>6</td>\n",
              "      <td>7</td>\n",
              "      <td>3</td>\n",
              "    </tr>\n",
              "    <tr>\n",
              "      <th>1</th>\n",
              "      <td>ID_X28T3VEK</td>\n",
              "      <td>1958</td>\n",
              "      <td>Graduation</td>\n",
              "      <td>Together</td>\n",
              "      <td>56784.0</td>\n",
              "      <td>0</td>\n",
              "      <td>1</td>\n",
              "      <td>2013-01-08</td>\n",
              "      <td>17</td>\n",
              "      <td>6</td>\n",
              "      <td>5</td>\n",
              "      <td>1</td>\n",
              "      <td>8</td>\n",
              "      <td>205</td>\n",
              "      <td>22</td>\n",
              "      <td>111</td>\n",
              "      <td>50</td>\n",
              "      <td>15</td>\n",
              "      <td>19</td>\n",
              "      <td>6</td>\n",
              "      <td>0</td>\n",
              "      <td>0</td>\n",
              "      <td>0</td>\n",
              "      <td>0</td>\n",
              "      <td>0</td>\n",
              "      <td>0</td>\n",
              "      <td>0</td>\n",
              "      <td>63</td>\n",
              "      <td>2</td>\n",
              "      <td>2</td>\n",
              "      <td>2</td>\n",
              "      <td>2013</td>\n",
              "      <td>8</td>\n",
              "      <td>1</td>\n",
              "      <td>1</td>\n",
              "      <td>1</td>\n",
              "      <td>2</td>\n",
              "      <td>0</td>\n",
              "      <td>1</td>\n",
              "      <td>8</td>\n",
              "      <td>2</td>\n",
              "    </tr>\n",
              "    <tr>\n",
              "      <th>2</th>\n",
              "      <td>ID_AWXARH57</td>\n",
              "      <td>1962</td>\n",
              "      <td>Graduation</td>\n",
              "      <td>Single</td>\n",
              "      <td>103714.8</td>\n",
              "      <td>0</td>\n",
              "      <td>0</td>\n",
              "      <td>2013-11-21</td>\n",
              "      <td>17</td>\n",
              "      <td>0</td>\n",
              "      <td>7</td>\n",
              "      <td>4</td>\n",
              "      <td>7</td>\n",
              "      <td>469</td>\n",
              "      <td>31</td>\n",
              "      <td>873</td>\n",
              "      <td>29</td>\n",
              "      <td>18</td>\n",
              "      <td>37</td>\n",
              "      <td>2</td>\n",
              "      <td>0</td>\n",
              "      <td>0</td>\n",
              "      <td>0</td>\n",
              "      <td>1</td>\n",
              "      <td>0</td>\n",
              "      <td>0</td>\n",
              "      <td>1</td>\n",
              "      <td>59</td>\n",
              "      <td>3</td>\n",
              "      <td>2</td>\n",
              "      <td>5</td>\n",
              "      <td>2013</td>\n",
              "      <td>21</td>\n",
              "      <td>11</td>\n",
              "      <td>4</td>\n",
              "      <td>3</td>\n",
              "      <td>47</td>\n",
              "      <td>0</td>\n",
              "      <td>3</td>\n",
              "      <td>8</td>\n",
              "      <td>2</td>\n",
              "    </tr>\n",
              "    <tr>\n",
              "      <th>3</th>\n",
              "      <td>ID_FQVZHE81</td>\n",
              "      <td>1979</td>\n",
              "      <td>2n Cycle</td>\n",
              "      <td>Single</td>\n",
              "      <td>46311.6</td>\n",
              "      <td>1</td>\n",
              "      <td>0</td>\n",
              "      <td>2013-09-13</td>\n",
              "      <td>49</td>\n",
              "      <td>3</td>\n",
              "      <td>4</td>\n",
              "      <td>1</td>\n",
              "      <td>3</td>\n",
              "      <td>56</td>\n",
              "      <td>15</td>\n",
              "      <td>49</td>\n",
              "      <td>17</td>\n",
              "      <td>24</td>\n",
              "      <td>24</td>\n",
              "      <td>8</td>\n",
              "      <td>0</td>\n",
              "      <td>0</td>\n",
              "      <td>0</td>\n",
              "      <td>0</td>\n",
              "      <td>0</td>\n",
              "      <td>0</td>\n",
              "      <td>0</td>\n",
              "      <td>42</td>\n",
              "      <td>4</td>\n",
              "      <td>1</td>\n",
              "      <td>2</td>\n",
              "      <td>2013</td>\n",
              "      <td>13</td>\n",
              "      <td>9</td>\n",
              "      <td>3</td>\n",
              "      <td>4</td>\n",
              "      <td>37</td>\n",
              "      <td>0</td>\n",
              "      <td>4</td>\n",
              "      <td>8</td>\n",
              "      <td>2</td>\n",
              "    </tr>\n",
              "    <tr>\n",
              "      <th>4</th>\n",
              "      <td>ID_QVLWGPRN</td>\n",
              "      <td>1959</td>\n",
              "      <td>Graduation</td>\n",
              "      <td>Married</td>\n",
              "      <td>87486.0</td>\n",
              "      <td>0</td>\n",
              "      <td>0</td>\n",
              "      <td>2014-01-21</td>\n",
              "      <td>59</td>\n",
              "      <td>1</td>\n",
              "      <td>3</td>\n",
              "      <td>7</td>\n",
              "      <td>9</td>\n",
              "      <td>412</td>\n",
              "      <td>117</td>\n",
              "      <td>445</td>\n",
              "      <td>181</td>\n",
              "      <td>165</td>\n",
              "      <td>203</td>\n",
              "      <td>1</td>\n",
              "      <td>0</td>\n",
              "      <td>0</td>\n",
              "      <td>0</td>\n",
              "      <td>1</td>\n",
              "      <td>0</td>\n",
              "      <td>0</td>\n",
              "      <td>0</td>\n",
              "      <td>62</td>\n",
              "      <td>2</td>\n",
              "      <td>2</td>\n",
              "      <td>4</td>\n",
              "      <td>2014</td>\n",
              "      <td>21</td>\n",
              "      <td>1</td>\n",
              "      <td>1</td>\n",
              "      <td>1</td>\n",
              "      <td>4</td>\n",
              "      <td>0</td>\n",
              "      <td>1</td>\n",
              "      <td>7</td>\n",
              "      <td>3</td>\n",
              "    </tr>\n",
              "  </tbody>\n",
              "</table>\n",
              "</div>"
            ],
            "text/plain": [
              "            ID  ...  Customer_Date_category\n",
              "0  ID_4A9AR6FQ  ...                       3\n",
              "1  ID_X28T3VEK  ...                       2\n",
              "2  ID_AWXARH57  ...                       2\n",
              "3  ID_FQVZHE81  ...                       2\n",
              "4  ID_QVLWGPRN  ...                       3\n",
              "\n",
              "[5 rows x 41 columns]"
            ]
          },
          "metadata": {},
          "execution_count": 29
        }
      ]
    },
    {
      "cell_type": "code",
      "metadata": {
        "id": "tqvgnqJmGNA8"
      },
      "source": [
        "#For Date_hist\n",
        "def convert_date(Date):\n",
        "  if Date <=2012:\n",
        "    return 1\n",
        "  elif Date <= 2013:\n",
        "    return 2\n",
        "  else:\n",
        "    return 3\n",
        "\n",
        "#test['New_Date']  = test['Date_hist'].apply(convert_date) \n",
        "#train['New_Date']  = train['Date_hist'].apply(convert_date)      \n",
        "\n",
        "#test['New_Date'].value_counts()"
      ],
      "execution_count": 30,
      "outputs": []
    },
    {
      "cell_type": "code",
      "metadata": {
        "colab": {
          "base_uri": "https://localhost:8080/",
          "height": 387
        },
        "id": "Y75H1BUAw1KO",
        "outputId": "46ee6bf6-e894-4caf-8dfe-26779a6df0c7"
      },
      "source": [
        "sns.displot(train['Recency'])"
      ],
      "execution_count": 31,
      "outputs": [
        {
          "output_type": "execute_result",
          "data": {
            "text/plain": [
              "<seaborn.axisgrid.FacetGrid at 0x7f402e3ed8d0>"
            ]
          },
          "metadata": {},
          "execution_count": 31
        },
        {
          "output_type": "display_data",
          "data": {
            "image/png": "[encoded data removed]",
            "text/plain": [
              "<Figure size 360x360 with 1 Axes>"
            ]
          },
          "metadata": {
            "needs_background": "light"
          }
        }
      ]
    },
    {
      "cell_type": "code",
      "metadata": {
        "colab": {
          "base_uri": "https://localhost:8080/"
        },
        "id": "sqjcBP1xw1H3",
        "outputId": "94f4952f-654b-4c5e-aeef-622b4f042eca"
      },
      "source": [
        "def convert_recency(recency):\n",
        "  if recency <= 20:\n",
        "    return 1\n",
        "  elif recency <= 40:\n",
        "    return 2\n",
        "  elif recency <= 60:\n",
        "    return 3\n",
        "  elif recency <= 80:\n",
        "    return 4\n",
        "  else:\n",
        "      return 5     \n",
        "\n",
        "dataframe = [train, test]\n",
        "\n",
        "for data in dataframe:\n",
        "  data['new_Recency'] = data['Recency'].apply(convert_recency)\n",
        "  data = data.drop(['Recency'],axis=1)\n",
        "\n",
        "train['new_Recency'].value_counts()"
      ],
      "execution_count": 32,
      "outputs": [
        {
          "output_type": "execute_result",
          "data": {
            "text/plain": [
              "5    384\n",
              "4    327\n",
              "2    306\n",
              "3    304\n",
              "1    247\n",
              "Name: new_Recency, dtype: int64"
            ]
          },
          "metadata": {},
          "execution_count": 32
        }
      ]
    },
    {
      "cell_type": "code",
      "metadata": {
        "colab": {
          "base_uri": "https://localhost:8080/",
          "height": 387
        },
        "id": "q4AOXAI6w1F7",
        "outputId": "1ae9ae7f-678f-4f9f-9415-3dab299b9aa4"
      },
      "source": [
        "#Amount spent by user\n",
        "\n",
        "dataframe = [train, test]\n",
        "\n",
        "for data in dataframe:\n",
        "  data['Amount_spent'] = data['Amount_on_FishProducts'] + data['Amount_on_Fruits'] + data['Amount_on_GoldProds'] + data['Amount_on_MeatProducts'] + data['Amount_on_SweetProducts'] + data['Amount_on_Wines']\n",
        "\n",
        "#for data in dataframe:\n",
        "  #data['Amt_since_join'] =  data['Amount_spent'] * data['Customer_Date_category']\n",
        "\n",
        "sns.displot(train['Amount_spent'])"
      ],
      "execution_count": 33,
      "outputs": [
        {
          "output_type": "execute_result",
          "data": {
            "text/plain": [
              "<seaborn.axisgrid.FacetGrid at 0x7f402e313590>"
            ]
          },
          "metadata": {},
          "execution_count": 33
        },
        {
          "output_type": "display_data",
          "data": {
            "image/png": "[encoded data removed]",
            "text/plain": [
              "<Figure size 360x360 with 1 Axes>"
            ]
          },
          "metadata": {
            "needs_background": "light"
          }
        }
      ]
    },
    {
      "cell_type": "code",
      "metadata": {
        "colab": {
          "base_uri": "https://localhost:8080/"
        },
        "id": "sgnUtL3dDpD-",
        "outputId": "c26ca341-2329-42e6-99df-588a9c2f8b06"
      },
      "source": [
        "train[train.columns[0:]].corr()['Response'][:].sort_values(ascending=False)"
      ],
      "execution_count": 34,
      "outputs": [
        {
          "output_type": "execute_result",
          "data": {
            "text/plain": [
              "Response                        1.000000\n",
              "Cmp5Accepted                    0.357647\n",
              "Cmp1Accepted                    0.344083\n",
              "Amount_spent                    0.284348\n",
              "Amount_on_Wines                 0.259173\n",
              "Cmp3Accepted                    0.257106\n",
              "Amount_on_MeatProducts          0.247182\n",
              "CatalogPurchases                0.221534\n",
              "Cmp4Accepted                    0.202437\n",
              "disposable_amt_cat              0.187883\n",
              "Amount_on_GoldProds             0.174229\n",
              "WebPurchases                    0.165538\n",
              "customer_last_patronize_year    0.159526\n",
              "Cmp2Accepted                    0.157353\n",
              "Amount_on_Fruits                0.155225\n",
              "Amount_on_SweetProducts         0.133005\n",
              "Disposable_Income               0.131291\n",
              "Amount_on_FishProducts          0.129884\n",
              "Education                       0.099124\n",
              "StorePurchases                  0.061446\n",
              "Date_Customer_quarter           0.034488\n",
              "Date_Customer_week              0.028842\n",
              "Age_group                       0.024233\n",
              "Date_Customer_month             0.023729\n",
              "Year_of_Birth                   0.012279\n",
              "Discounted_Purchases            0.000951\n",
              "Date_Customer_day              -0.001560\n",
              "Customer_current_Age           -0.012279\n",
              "Any_Complain                   -0.019206\n",
              "WebVisitsMonth                 -0.023043\n",
              "Date_Customer_weekend          -0.030290\n",
              "Date_Customer_weekday          -0.079911\n",
              "Date_Customer_dayofweek        -0.079911\n",
              "No_of_Kids_in_home             -0.108558\n",
              "No_of_Teen_in_home             -0.156209\n",
              "Date_Customer_year             -0.159526\n",
              "Customer_Date_category         -0.159526\n",
              "new_Recency                    -0.198029\n",
              "Recency                        -0.201654\n",
              "Name: Response, dtype: float64"
            ]
          },
          "metadata": {},
          "execution_count": 34
        }
      ]
    },
    {
      "cell_type": "code",
      "metadata": {
        "id": "ZaAus-z6zbxx"
      },
      "source": [
        "train = train.drop(['ID',  'Year_of_Birth', 'Date_Customer', 'Recency'], axis=1)\n",
        "test = test.drop(['ID',  'Year_of_Birth',  'Date_Customer', 'Recency'], axis=1)"
      ],
      "execution_count": 35,
      "outputs": []
    },
    {
      "cell_type": "code",
      "metadata": {
        "colab": {
          "base_uri": "https://localhost:8080/",
          "height": 225
        },
        "id": "5w8rYivg_X7_",
        "outputId": "065f91fd-1ca1-48ba-8cf1-b30cf62e4d6e"
      },
      "source": [
        "train.head()"
      ],
      "execution_count": 36,
      "outputs": [
        {
          "output_type": "execute_result",
          "data": {
            "text/html": [
              "<div>\n",
              "<style scoped>\n",
              "    .dataframe tbody tr th:only-of-type {\n",
              "        vertical-align: middle;\n",
              "    }\n",
              "\n",
              "    .dataframe tbody tr th {\n",
              "        vertical-align: top;\n",
              "    }\n",
              "\n",
              "    .dataframe thead th {\n",
              "        text-align: right;\n",
              "    }\n",
              "</style>\n",
              "<table border=\"1\" class=\"dataframe\">\n",
              "  <thead>\n",
              "    <tr style=\"text-align: right;\">\n",
              "      <th></th>\n",
              "      <th>Education_Level</th>\n",
              "      <th>Marital_Status</th>\n",
              "      <th>Disposable_Income</th>\n",
              "      <th>No_of_Kids_in_home</th>\n",
              "      <th>No_of_Teen_in_home</th>\n",
              "      <th>Discounted_Purchases</th>\n",
              "      <th>WebPurchases</th>\n",
              "      <th>CatalogPurchases</th>\n",
              "      <th>StorePurchases</th>\n",
              "      <th>Amount_on_Wines</th>\n",
              "      <th>Amount_on_Fruits</th>\n",
              "      <th>Amount_on_MeatProducts</th>\n",
              "      <th>Amount_on_FishProducts</th>\n",
              "      <th>Amount_on_SweetProducts</th>\n",
              "      <th>Amount_on_GoldProds</th>\n",
              "      <th>WebVisitsMonth</th>\n",
              "      <th>Cmp3Accepted</th>\n",
              "      <th>Cmp4Accepted</th>\n",
              "      <th>Cmp5Accepted</th>\n",
              "      <th>Cmp1Accepted</th>\n",
              "      <th>Cmp2Accepted</th>\n",
              "      <th>Any_Complain</th>\n",
              "      <th>Response</th>\n",
              "      <th>Customer_current_Age</th>\n",
              "      <th>Age_group</th>\n",
              "      <th>Education</th>\n",
              "      <th>disposable_amt_cat</th>\n",
              "      <th>Date_Customer_year</th>\n",
              "      <th>Date_Customer_day</th>\n",
              "      <th>Date_Customer_month</th>\n",
              "      <th>Date_Customer_quarter</th>\n",
              "      <th>Date_Customer_weekday</th>\n",
              "      <th>Date_Customer_week</th>\n",
              "      <th>Date_Customer_weekend</th>\n",
              "      <th>Date_Customer_dayofweek</th>\n",
              "      <th>customer_last_patronize_year</th>\n",
              "      <th>Customer_Date_category</th>\n",
              "      <th>new_Recency</th>\n",
              "      <th>Amount_spent</th>\n",
              "    </tr>\n",
              "  </thead>\n",
              "  <tbody>\n",
              "    <tr>\n",
              "      <th>0</th>\n",
              "      <td>Graduation</td>\n",
              "      <td>Divorced</td>\n",
              "      <td>77504.4</td>\n",
              "      <td>1</td>\n",
              "      <td>1</td>\n",
              "      <td>2</td>\n",
              "      <td>1</td>\n",
              "      <td>1</td>\n",
              "      <td>4</td>\n",
              "      <td>71</td>\n",
              "      <td>3</td>\n",
              "      <td>16</td>\n",
              "      <td>0</td>\n",
              "      <td>6</td>\n",
              "      <td>20</td>\n",
              "      <td>3</td>\n",
              "      <td>0</td>\n",
              "      <td>0</td>\n",
              "      <td>0</td>\n",
              "      <td>0</td>\n",
              "      <td>0</td>\n",
              "      <td>0</td>\n",
              "      <td>0</td>\n",
              "      <td>66</td>\n",
              "      <td>2</td>\n",
              "      <td>2</td>\n",
              "      <td>3</td>\n",
              "      <td>2014</td>\n",
              "      <td>22</td>\n",
              "      <td>6</td>\n",
              "      <td>2</td>\n",
              "      <td>6</td>\n",
              "      <td>25</td>\n",
              "      <td>1</td>\n",
              "      <td>6</td>\n",
              "      <td>7</td>\n",
              "      <td>3</td>\n",
              "      <td>3</td>\n",
              "      <td>116</td>\n",
              "    </tr>\n",
              "    <tr>\n",
              "      <th>1</th>\n",
              "      <td>Graduation</td>\n",
              "      <td>Together</td>\n",
              "      <td>56784.0</td>\n",
              "      <td>0</td>\n",
              "      <td>1</td>\n",
              "      <td>6</td>\n",
              "      <td>5</td>\n",
              "      <td>1</td>\n",
              "      <td>8</td>\n",
              "      <td>205</td>\n",
              "      <td>22</td>\n",
              "      <td>111</td>\n",
              "      <td>50</td>\n",
              "      <td>15</td>\n",
              "      <td>19</td>\n",
              "      <td>6</td>\n",
              "      <td>0</td>\n",
              "      <td>0</td>\n",
              "      <td>0</td>\n",
              "      <td>0</td>\n",
              "      <td>0</td>\n",
              "      <td>0</td>\n",
              "      <td>0</td>\n",
              "      <td>63</td>\n",
              "      <td>2</td>\n",
              "      <td>2</td>\n",
              "      <td>2</td>\n",
              "      <td>2013</td>\n",
              "      <td>8</td>\n",
              "      <td>1</td>\n",
              "      <td>1</td>\n",
              "      <td>1</td>\n",
              "      <td>2</td>\n",
              "      <td>0</td>\n",
              "      <td>1</td>\n",
              "      <td>8</td>\n",
              "      <td>2</td>\n",
              "      <td>1</td>\n",
              "      <td>422</td>\n",
              "    </tr>\n",
              "    <tr>\n",
              "      <th>2</th>\n",
              "      <td>Graduation</td>\n",
              "      <td>Single</td>\n",
              "      <td>103714.8</td>\n",
              "      <td>0</td>\n",
              "      <td>0</td>\n",
              "      <td>0</td>\n",
              "      <td>7</td>\n",
              "      <td>4</td>\n",
              "      <td>7</td>\n",
              "      <td>469</td>\n",
              "      <td>31</td>\n",
              "      <td>873</td>\n",
              "      <td>29</td>\n",
              "      <td>18</td>\n",
              "      <td>37</td>\n",
              "      <td>2</td>\n",
              "      <td>0</td>\n",
              "      <td>0</td>\n",
              "      <td>0</td>\n",
              "      <td>1</td>\n",
              "      <td>0</td>\n",
              "      <td>0</td>\n",
              "      <td>1</td>\n",
              "      <td>59</td>\n",
              "      <td>3</td>\n",
              "      <td>2</td>\n",
              "      <td>5</td>\n",
              "      <td>2013</td>\n",
              "      <td>21</td>\n",
              "      <td>11</td>\n",
              "      <td>4</td>\n",
              "      <td>3</td>\n",
              "      <td>47</td>\n",
              "      <td>0</td>\n",
              "      <td>3</td>\n",
              "      <td>8</td>\n",
              "      <td>2</td>\n",
              "      <td>1</td>\n",
              "      <td>1457</td>\n",
              "    </tr>\n",
              "    <tr>\n",
              "      <th>3</th>\n",
              "      <td>2n Cycle</td>\n",
              "      <td>Single</td>\n",
              "      <td>46311.6</td>\n",
              "      <td>1</td>\n",
              "      <td>0</td>\n",
              "      <td>3</td>\n",
              "      <td>4</td>\n",
              "      <td>1</td>\n",
              "      <td>3</td>\n",
              "      <td>56</td>\n",
              "      <td>15</td>\n",
              "      <td>49</td>\n",
              "      <td>17</td>\n",
              "      <td>24</td>\n",
              "      <td>24</td>\n",
              "      <td>8</td>\n",
              "      <td>0</td>\n",
              "      <td>0</td>\n",
              "      <td>0</td>\n",
              "      <td>0</td>\n",
              "      <td>0</td>\n",
              "      <td>0</td>\n",
              "      <td>0</td>\n",
              "      <td>42</td>\n",
              "      <td>4</td>\n",
              "      <td>1</td>\n",
              "      <td>2</td>\n",
              "      <td>2013</td>\n",
              "      <td>13</td>\n",
              "      <td>9</td>\n",
              "      <td>3</td>\n",
              "      <td>4</td>\n",
              "      <td>37</td>\n",
              "      <td>0</td>\n",
              "      <td>4</td>\n",
              "      <td>8</td>\n",
              "      <td>2</td>\n",
              "      <td>3</td>\n",
              "      <td>185</td>\n",
              "    </tr>\n",
              "    <tr>\n",
              "      <th>4</th>\n",
              "      <td>Graduation</td>\n",
              "      <td>Married</td>\n",
              "      <td>87486.0</td>\n",
              "      <td>0</td>\n",
              "      <td>0</td>\n",
              "      <td>1</td>\n",
              "      <td>3</td>\n",
              "      <td>7</td>\n",
              "      <td>9</td>\n",
              "      <td>412</td>\n",
              "      <td>117</td>\n",
              "      <td>445</td>\n",
              "      <td>181</td>\n",
              "      <td>165</td>\n",
              "      <td>203</td>\n",
              "      <td>1</td>\n",
              "      <td>0</td>\n",
              "      <td>0</td>\n",
              "      <td>0</td>\n",
              "      <td>1</td>\n",
              "      <td>0</td>\n",
              "      <td>0</td>\n",
              "      <td>0</td>\n",
              "      <td>62</td>\n",
              "      <td>2</td>\n",
              "      <td>2</td>\n",
              "      <td>4</td>\n",
              "      <td>2014</td>\n",
              "      <td>21</td>\n",
              "      <td>1</td>\n",
              "      <td>1</td>\n",
              "      <td>1</td>\n",
              "      <td>4</td>\n",
              "      <td>0</td>\n",
              "      <td>1</td>\n",
              "      <td>7</td>\n",
              "      <td>3</td>\n",
              "      <td>3</td>\n",
              "      <td>1523</td>\n",
              "    </tr>\n",
              "  </tbody>\n",
              "</table>\n",
              "</div>"
            ],
            "text/plain": [
              "  Education_Level Marital_Status  ...  new_Recency  Amount_spent\n",
              "0      Graduation       Divorced  ...            3           116\n",
              "1      Graduation       Together  ...            1           422\n",
              "2      Graduation         Single  ...            1          1457\n",
              "3        2n Cycle         Single  ...            3           185\n",
              "4      Graduation        Married  ...            3          1523\n",
              "\n",
              "[5 rows x 39 columns]"
            ]
          },
          "metadata": {},
          "execution_count": 36
        }
      ]
    },
    {
      "cell_type": "code",
      "metadata": {
        "colab": {
          "base_uri": "https://localhost:8080/",
          "height": 225
        },
        "id": "jf-h0cvfCLZZ",
        "outputId": "1a7ea4dc-6030-410e-bd6a-bb4a005945ff"
      },
      "source": [
        "test.head()"
      ],
      "execution_count": 37,
      "outputs": [
        {
          "output_type": "execute_result",
          "data": {
            "text/html": [
              "<div>\n",
              "<style scoped>\n",
              "    .dataframe tbody tr th:only-of-type {\n",
              "        vertical-align: middle;\n",
              "    }\n",
              "\n",
              "    .dataframe tbody tr th {\n",
              "        vertical-align: top;\n",
              "    }\n",
              "\n",
              "    .dataframe thead th {\n",
              "        text-align: right;\n",
              "    }\n",
              "</style>\n",
              "<table border=\"1\" class=\"dataframe\">\n",
              "  <thead>\n",
              "    <tr style=\"text-align: right;\">\n",
              "      <th></th>\n",
              "      <th>Education_Level</th>\n",
              "      <th>Marital_Status</th>\n",
              "      <th>Disposable_Income</th>\n",
              "      <th>No_of_Kids_in_home</th>\n",
              "      <th>No_of_Teen_in_home</th>\n",
              "      <th>Discounted_Purchases</th>\n",
              "      <th>WebPurchases</th>\n",
              "      <th>CatalogPurchases</th>\n",
              "      <th>StorePurchases</th>\n",
              "      <th>Amount_on_Wines</th>\n",
              "      <th>Amount_on_Fruits</th>\n",
              "      <th>Amount_on_MeatProducts</th>\n",
              "      <th>Amount_on_FishProducts</th>\n",
              "      <th>Amount_on_SweetProducts</th>\n",
              "      <th>Amount_on_GoldProds</th>\n",
              "      <th>WebVisitsMonth</th>\n",
              "      <th>Cmp3Accepted</th>\n",
              "      <th>Cmp4Accepted</th>\n",
              "      <th>Cmp5Accepted</th>\n",
              "      <th>Cmp1Accepted</th>\n",
              "      <th>Cmp2Accepted</th>\n",
              "      <th>Any_Complain</th>\n",
              "      <th>Customer_current_Age</th>\n",
              "      <th>Age_group</th>\n",
              "      <th>Education</th>\n",
              "      <th>disposable_amt_cat</th>\n",
              "      <th>Date_Customer_year</th>\n",
              "      <th>Date_Customer_day</th>\n",
              "      <th>Date_Customer_month</th>\n",
              "      <th>Date_Customer_quarter</th>\n",
              "      <th>Date_Customer_weekday</th>\n",
              "      <th>Date_Customer_week</th>\n",
              "      <th>Date_Customer_weekend</th>\n",
              "      <th>Date_Customer_dayofweek</th>\n",
              "      <th>customer_last_patronize_year</th>\n",
              "      <th>Customer_Date_category</th>\n",
              "      <th>new_Recency</th>\n",
              "      <th>Amount_spent</th>\n",
              "    </tr>\n",
              "  </thead>\n",
              "  <tbody>\n",
              "    <tr>\n",
              "      <th>0</th>\n",
              "      <td>Graduation</td>\n",
              "      <td>Single</td>\n",
              "      <td>48556.8</td>\n",
              "      <td>0</td>\n",
              "      <td>1</td>\n",
              "      <td>6</td>\n",
              "      <td>8</td>\n",
              "      <td>2</td>\n",
              "      <td>8</td>\n",
              "      <td>429</td>\n",
              "      <td>20</td>\n",
              "      <td>118</td>\n",
              "      <td>7</td>\n",
              "      <td>23</td>\n",
              "      <td>41</td>\n",
              "      <td>8</td>\n",
              "      <td>0</td>\n",
              "      <td>0</td>\n",
              "      <td>0</td>\n",
              "      <td>0</td>\n",
              "      <td>0</td>\n",
              "      <td>0</td>\n",
              "      <td>67</td>\n",
              "      <td>2</td>\n",
              "      <td>2</td>\n",
              "      <td>2</td>\n",
              "      <td>2013</td>\n",
              "      <td>1</td>\n",
              "      <td>11</td>\n",
              "      <td>4</td>\n",
              "      <td>4</td>\n",
              "      <td>44</td>\n",
              "      <td>0</td>\n",
              "      <td>4</td>\n",
              "      <td>8</td>\n",
              "      <td>2</td>\n",
              "      <td>5</td>\n",
              "      <td>638</td>\n",
              "    </tr>\n",
              "    <tr>\n",
              "      <th>1</th>\n",
              "      <td>Graduation</td>\n",
              "      <td>Widow</td>\n",
              "      <td>57499.2</td>\n",
              "      <td>0</td>\n",
              "      <td>1</td>\n",
              "      <td>5</td>\n",
              "      <td>7</td>\n",
              "      <td>4</td>\n",
              "      <td>6</td>\n",
              "      <td>510</td>\n",
              "      <td>3</td>\n",
              "      <td>26</td>\n",
              "      <td>0</td>\n",
              "      <td>0</td>\n",
              "      <td>75</td>\n",
              "      <td>6</td>\n",
              "      <td>0</td>\n",
              "      <td>1</td>\n",
              "      <td>0</td>\n",
              "      <td>0</td>\n",
              "      <td>0</td>\n",
              "      <td>0</td>\n",
              "      <td>60</td>\n",
              "      <td>3</td>\n",
              "      <td>2</td>\n",
              "      <td>2</td>\n",
              "      <td>2012</td>\n",
              "      <td>22</td>\n",
              "      <td>11</td>\n",
              "      <td>4</td>\n",
              "      <td>3</td>\n",
              "      <td>47</td>\n",
              "      <td>0</td>\n",
              "      <td>3</td>\n",
              "      <td>9</td>\n",
              "      <td>1</td>\n",
              "      <td>4</td>\n",
              "      <td>614</td>\n",
              "    </tr>\n",
              "    <tr>\n",
              "      <th>2</th>\n",
              "      <td>Basic</td>\n",
              "      <td>Married</td>\n",
              "      <td>17025.6</td>\n",
              "      <td>0</td>\n",
              "      <td>0</td>\n",
              "      <td>1</td>\n",
              "      <td>2</td>\n",
              "      <td>0</td>\n",
              "      <td>4</td>\n",
              "      <td>7</td>\n",
              "      <td>10</td>\n",
              "      <td>11</td>\n",
              "      <td>16</td>\n",
              "      <td>12</td>\n",
              "      <td>27</td>\n",
              "      <td>6</td>\n",
              "      <td>0</td>\n",
              "      <td>0</td>\n",
              "      <td>0</td>\n",
              "      <td>0</td>\n",
              "      <td>0</td>\n",
              "      <td>0</td>\n",
              "      <td>48</td>\n",
              "      <td>4</td>\n",
              "      <td>0</td>\n",
              "      <td>1</td>\n",
              "      <td>2013</td>\n",
              "      <td>28</td>\n",
              "      <td>2</td>\n",
              "      <td>1</td>\n",
              "      <td>3</td>\n",
              "      <td>9</td>\n",
              "      <td>0</td>\n",
              "      <td>3</td>\n",
              "      <td>8</td>\n",
              "      <td>2</td>\n",
              "      <td>3</td>\n",
              "      <td>83</td>\n",
              "    </tr>\n",
              "    <tr>\n",
              "      <th>3</th>\n",
              "      <td>Graduation</td>\n",
              "      <td>Together</td>\n",
              "      <td>91983.6</td>\n",
              "      <td>0</td>\n",
              "      <td>0</td>\n",
              "      <td>1</td>\n",
              "      <td>4</td>\n",
              "      <td>7</td>\n",
              "      <td>11</td>\n",
              "      <td>741</td>\n",
              "      <td>66</td>\n",
              "      <td>946</td>\n",
              "      <td>219</td>\n",
              "      <td>189</td>\n",
              "      <td>126</td>\n",
              "      <td>2</td>\n",
              "      <td>0</td>\n",
              "      <td>0</td>\n",
              "      <td>1</td>\n",
              "      <td>1</td>\n",
              "      <td>0</td>\n",
              "      <td>0</td>\n",
              "      <td>51</td>\n",
              "      <td>3</td>\n",
              "      <td>2</td>\n",
              "      <td>4</td>\n",
              "      <td>2013</td>\n",
              "      <td>16</td>\n",
              "      <td>8</td>\n",
              "      <td>3</td>\n",
              "      <td>4</td>\n",
              "      <td>33</td>\n",
              "      <td>0</td>\n",
              "      <td>4</td>\n",
              "      <td>8</td>\n",
              "      <td>2</td>\n",
              "      <td>5</td>\n",
              "      <td>2287</td>\n",
              "    </tr>\n",
              "    <tr>\n",
              "      <th>4</th>\n",
              "      <td>Graduation</td>\n",
              "      <td>Together</td>\n",
              "      <td>78235.2</td>\n",
              "      <td>0</td>\n",
              "      <td>2</td>\n",
              "      <td>2</td>\n",
              "      <td>7</td>\n",
              "      <td>6</td>\n",
              "      <td>11</td>\n",
              "      <td>748</td>\n",
              "      <td>22</td>\n",
              "      <td>181</td>\n",
              "      <td>12</td>\n",
              "      <td>0</td>\n",
              "      <td>200</td>\n",
              "      <td>5</td>\n",
              "      <td>1</td>\n",
              "      <td>0</td>\n",
              "      <td>0</td>\n",
              "      <td>0</td>\n",
              "      <td>0</td>\n",
              "      <td>0</td>\n",
              "      <td>62</td>\n",
              "      <td>2</td>\n",
              "      <td>2</td>\n",
              "      <td>3</td>\n",
              "      <td>2013</td>\n",
              "      <td>25</td>\n",
              "      <td>7</td>\n",
              "      <td>3</td>\n",
              "      <td>3</td>\n",
              "      <td>30</td>\n",
              "      <td>0</td>\n",
              "      <td>3</td>\n",
              "      <td>8</td>\n",
              "      <td>2</td>\n",
              "      <td>3</td>\n",
              "      <td>1163</td>\n",
              "    </tr>\n",
              "  </tbody>\n",
              "</table>\n",
              "</div>"
            ],
            "text/plain": [
              "  Education_Level Marital_Status  ...  new_Recency  Amount_spent\n",
              "0      Graduation         Single  ...            5           638\n",
              "1      Graduation          Widow  ...            4           614\n",
              "2           Basic        Married  ...            3            83\n",
              "3      Graduation       Together  ...            5          2287\n",
              "4      Graduation       Together  ...            3          1163\n",
              "\n",
              "[5 rows x 38 columns]"
            ]
          },
          "metadata": {},
          "execution_count": 37
        }
      ]
    },
    {
      "cell_type": "code",
      "metadata": {
        "colab": {
          "base_uri": "https://localhost:8080/"
        },
        "id": "h5kkjk6fCTR5",
        "outputId": "c00abb08-9080-4acd-eacb-3cd35cfa81b2"
      },
      "source": [
        "test.isnull().sum()"
      ],
      "execution_count": 38,
      "outputs": [
        {
          "output_type": "execute_result",
          "data": {
            "text/plain": [
              "Education_Level                 0\n",
              "Marital_Status                  0\n",
              "Disposable_Income               0\n",
              "No_of_Kids_in_home              0\n",
              "No_of_Teen_in_home              0\n",
              "Discounted_Purchases            0\n",
              "WebPurchases                    0\n",
              "CatalogPurchases                0\n",
              "StorePurchases                  0\n",
              "Amount_on_Wines                 0\n",
              "Amount_on_Fruits                0\n",
              "Amount_on_MeatProducts          0\n",
              "Amount_on_FishProducts          0\n",
              "Amount_on_SweetProducts         0\n",
              "Amount_on_GoldProds             0\n",
              "WebVisitsMonth                  0\n",
              "Cmp3Accepted                    0\n",
              "Cmp4Accepted                    0\n",
              "Cmp5Accepted                    0\n",
              "Cmp1Accepted                    0\n",
              "Cmp2Accepted                    0\n",
              "Any_Complain                    0\n",
              "Customer_current_Age            0\n",
              "Age_group                       0\n",
              "Education                       0\n",
              "disposable_amt_cat              0\n",
              "Date_Customer_year              0\n",
              "Date_Customer_day               0\n",
              "Date_Customer_month             0\n",
              "Date_Customer_quarter           0\n",
              "Date_Customer_weekday           0\n",
              "Date_Customer_week              0\n",
              "Date_Customer_weekend           0\n",
              "Date_Customer_dayofweek         0\n",
              "customer_last_patronize_year    0\n",
              "Customer_Date_category          0\n",
              "new_Recency                     0\n",
              "Amount_spent                    0\n",
              "dtype: int64"
            ]
          },
          "metadata": {},
          "execution_count": 38
        }
      ]
    },
    {
      "cell_type": "markdown",
      "metadata": {
        "id": "R9NSDymVzxZY"
      },
      "source": [
        "# One-hot encoding of remaining categorical variables"
      ]
    },
    {
      "cell_type": "code",
      "metadata": {
        "colab": {
          "base_uri": "https://localhost:8080/"
        },
        "id": "OY3rTqeNtux2",
        "outputId": "5bfbc7c8-1f2f-4e56-808a-6dec45a30b77"
      },
      "source": [
        "train = pd.get_dummies(train,drop_first=True)\n",
        "test = pd.get_dummies(test,drop_first=True)\n",
        "\n",
        "print('Training Features shape: ', train.shape)\n",
        "print('Testing Features shape: ', test.shape)"
      ],
      "execution_count": 39,
      "outputs": [
        {
          "output_type": "stream",
          "name": "stdout",
          "text": [
            "Training Features shape:  (1568, 45)\n",
            "Testing Features shape:  (672, 44)\n"
          ]
        }
      ]
    },
    {
      "cell_type": "code",
      "metadata": {
        "colab": {
          "base_uri": "https://localhost:8080/"
        },
        "id": "-Aheu7I7ACgO",
        "outputId": "387c87de-aeca-4cee-bf3f-f9937a2b9666"
      },
      "source": [
        "train.shape, test.shape"
      ],
      "execution_count": 40,
      "outputs": [
        {
          "output_type": "execute_result",
          "data": {
            "text/plain": [
              "((1568, 45), (672, 44))"
            ]
          },
          "metadata": {},
          "execution_count": 40
        }
      ]
    },
    {
      "cell_type": "code",
      "metadata": {
        "colab": {
          "base_uri": "https://localhost:8080/",
          "height": 225
        },
        "id": "aLflHK5_zl5y",
        "outputId": "ec314ebd-ce99-4158-b945-9aa9edd58416"
      },
      "source": [
        "train.head()"
      ],
      "execution_count": 41,
      "outputs": [
        {
          "output_type": "execute_result",
          "data": {
            "text/html": [
              "<div>\n",
              "<style scoped>\n",
              "    .dataframe tbody tr th:only-of-type {\n",
              "        vertical-align: middle;\n",
              "    }\n",
              "\n",
              "    .dataframe tbody tr th {\n",
              "        vertical-align: top;\n",
              "    }\n",
              "\n",
              "    .dataframe thead th {\n",
              "        text-align: right;\n",
              "    }\n",
              "</style>\n",
              "<table border=\"1\" class=\"dataframe\">\n",
              "  <thead>\n",
              "    <tr style=\"text-align: right;\">\n",
              "      <th></th>\n",
              "      <th>Disposable_Income</th>\n",
              "      <th>No_of_Kids_in_home</th>\n",
              "      <th>No_of_Teen_in_home</th>\n",
              "      <th>Discounted_Purchases</th>\n",
              "      <th>WebPurchases</th>\n",
              "      <th>CatalogPurchases</th>\n",
              "      <th>StorePurchases</th>\n",
              "      <th>Amount_on_Wines</th>\n",
              "      <th>Amount_on_Fruits</th>\n",
              "      <th>Amount_on_MeatProducts</th>\n",
              "      <th>Amount_on_FishProducts</th>\n",
              "      <th>Amount_on_SweetProducts</th>\n",
              "      <th>Amount_on_GoldProds</th>\n",
              "      <th>WebVisitsMonth</th>\n",
              "      <th>Cmp3Accepted</th>\n",
              "      <th>Cmp4Accepted</th>\n",
              "      <th>Cmp5Accepted</th>\n",
              "      <th>Cmp1Accepted</th>\n",
              "      <th>Cmp2Accepted</th>\n",
              "      <th>Any_Complain</th>\n",
              "      <th>Response</th>\n",
              "      <th>Customer_current_Age</th>\n",
              "      <th>Age_group</th>\n",
              "      <th>Education</th>\n",
              "      <th>disposable_amt_cat</th>\n",
              "      <th>Date_Customer_year</th>\n",
              "      <th>Date_Customer_day</th>\n",
              "      <th>Date_Customer_month</th>\n",
              "      <th>Date_Customer_quarter</th>\n",
              "      <th>Date_Customer_weekday</th>\n",
              "      <th>Date_Customer_week</th>\n",
              "      <th>Date_Customer_weekend</th>\n",
              "      <th>Date_Customer_dayofweek</th>\n",
              "      <th>customer_last_patronize_year</th>\n",
              "      <th>Customer_Date_category</th>\n",
              "      <th>new_Recency</th>\n",
              "      <th>Amount_spent</th>\n",
              "      <th>Education_Level_Basic</th>\n",
              "      <th>Education_Level_Graduation</th>\n",
              "      <th>Education_Level_Master</th>\n",
              "      <th>Education_Level_PhD</th>\n",
              "      <th>Marital_Status_Married</th>\n",
              "      <th>Marital_Status_Single</th>\n",
              "      <th>Marital_Status_Together</th>\n",
              "      <th>Marital_Status_Widow</th>\n",
              "    </tr>\n",
              "  </thead>\n",
              "  <tbody>\n",
              "    <tr>\n",
              "      <th>0</th>\n",
              "      <td>77504.4</td>\n",
              "      <td>1</td>\n",
              "      <td>1</td>\n",
              "      <td>2</td>\n",
              "      <td>1</td>\n",
              "      <td>1</td>\n",
              "      <td>4</td>\n",
              "      <td>71</td>\n",
              "      <td>3</td>\n",
              "      <td>16</td>\n",
              "      <td>0</td>\n",
              "      <td>6</td>\n",
              "      <td>20</td>\n",
              "      <td>3</td>\n",
              "      <td>0</td>\n",
              "      <td>0</td>\n",
              "      <td>0</td>\n",
              "      <td>0</td>\n",
              "      <td>0</td>\n",
              "      <td>0</td>\n",
              "      <td>0</td>\n",
              "      <td>66</td>\n",
              "      <td>2</td>\n",
              "      <td>2</td>\n",
              "      <td>3</td>\n",
              "      <td>2014</td>\n",
              "      <td>22</td>\n",
              "      <td>6</td>\n",
              "      <td>2</td>\n",
              "      <td>6</td>\n",
              "      <td>25</td>\n",
              "      <td>1</td>\n",
              "      <td>6</td>\n",
              "      <td>7</td>\n",
              "      <td>3</td>\n",
              "      <td>3</td>\n",
              "      <td>116</td>\n",
              "      <td>0</td>\n",
              "      <td>1</td>\n",
              "      <td>0</td>\n",
              "      <td>0</td>\n",
              "      <td>0</td>\n",
              "      <td>0</td>\n",
              "      <td>0</td>\n",
              "      <td>0</td>\n",
              "    </tr>\n",
              "    <tr>\n",
              "      <th>1</th>\n",
              "      <td>56784.0</td>\n",
              "      <td>0</td>\n",
              "      <td>1</td>\n",
              "      <td>6</td>\n",
              "      <td>5</td>\n",
              "      <td>1</td>\n",
              "      <td>8</td>\n",
              "      <td>205</td>\n",
              "      <td>22</td>\n",
              "      <td>111</td>\n",
              "      <td>50</td>\n",
              "      <td>15</td>\n",
              "      <td>19</td>\n",
              "      <td>6</td>\n",
              "      <td>0</td>\n",
              "      <td>0</td>\n",
              "      <td>0</td>\n",
              "      <td>0</td>\n",
              "      <td>0</td>\n",
              "      <td>0</td>\n",
              "      <td>0</td>\n",
              "      <td>63</td>\n",
              "      <td>2</td>\n",
              "      <td>2</td>\n",
              "      <td>2</td>\n",
              "      <td>2013</td>\n",
              "      <td>8</td>\n",
              "      <td>1</td>\n",
              "      <td>1</td>\n",
              "      <td>1</td>\n",
              "      <td>2</td>\n",
              "      <td>0</td>\n",
              "      <td>1</td>\n",
              "      <td>8</td>\n",
              "      <td>2</td>\n",
              "      <td>1</td>\n",
              "      <td>422</td>\n",
              "      <td>0</td>\n",
              "      <td>1</td>\n",
              "      <td>0</td>\n",
              "      <td>0</td>\n",
              "      <td>0</td>\n",
              "      <td>0</td>\n",
              "      <td>1</td>\n",
              "      <td>0</td>\n",
              "    </tr>\n",
              "    <tr>\n",
              "      <th>2</th>\n",
              "      <td>103714.8</td>\n",
              "      <td>0</td>\n",
              "      <td>0</td>\n",
              "      <td>0</td>\n",
              "      <td>7</td>\n",
              "      <td>4</td>\n",
              "      <td>7</td>\n",
              "      <td>469</td>\n",
              "      <td>31</td>\n",
              "      <td>873</td>\n",
              "      <td>29</td>\n",
              "      <td>18</td>\n",
              "      <td>37</td>\n",
              "      <td>2</td>\n",
              "      <td>0</td>\n",
              "      <td>0</td>\n",
              "      <td>0</td>\n",
              "      <td>1</td>\n",
              "      <td>0</td>\n",
              "      <td>0</td>\n",
              "      <td>1</td>\n",
              "      <td>59</td>\n",
              "      <td>3</td>\n",
              "      <td>2</td>\n",
              "      <td>5</td>\n",
              "      <td>2013</td>\n",
              "      <td>21</td>\n",
              "      <td>11</td>\n",
              "      <td>4</td>\n",
              "      <td>3</td>\n",
              "      <td>47</td>\n",
              "      <td>0</td>\n",
              "      <td>3</td>\n",
              "      <td>8</td>\n",
              "      <td>2</td>\n",
              "      <td>1</td>\n",
              "      <td>1457</td>\n",
              "      <td>0</td>\n",
              "      <td>1</td>\n",
              "      <td>0</td>\n",
              "      <td>0</td>\n",
              "      <td>0</td>\n",
              "      <td>1</td>\n",
              "      <td>0</td>\n",
              "      <td>0</td>\n",
              "    </tr>\n",
              "    <tr>\n",
              "      <th>3</th>\n",
              "      <td>46311.6</td>\n",
              "      <td>1</td>\n",
              "      <td>0</td>\n",
              "      <td>3</td>\n",
              "      <td>4</td>\n",
              "      <td>1</td>\n",
              "      <td>3</td>\n",
              "      <td>56</td>\n",
              "      <td>15</td>\n",
              "      <td>49</td>\n",
              "      <td>17</td>\n",
              "      <td>24</td>\n",
              "      <td>24</td>\n",
              "      <td>8</td>\n",
              "      <td>0</td>\n",
              "      <td>0</td>\n",
              "      <td>0</td>\n",
              "      <td>0</td>\n",
              "      <td>0</td>\n",
              "      <td>0</td>\n",
              "      <td>0</td>\n",
              "      <td>42</td>\n",
              "      <td>4</td>\n",
              "      <td>1</td>\n",
              "      <td>2</td>\n",
              "      <td>2013</td>\n",
              "      <td>13</td>\n",
              "      <td>9</td>\n",
              "      <td>3</td>\n",
              "      <td>4</td>\n",
              "      <td>37</td>\n",
              "      <td>0</td>\n",
              "      <td>4</td>\n",
              "      <td>8</td>\n",
              "      <td>2</td>\n",
              "      <td>3</td>\n",
              "      <td>185</td>\n",
              "      <td>0</td>\n",
              "      <td>0</td>\n",
              "      <td>0</td>\n",
              "      <td>0</td>\n",
              "      <td>0</td>\n",
              "      <td>1</td>\n",
              "      <td>0</td>\n",
              "      <td>0</td>\n",
              "    </tr>\n",
              "    <tr>\n",
              "      <th>4</th>\n",
              "      <td>87486.0</td>\n",
              "      <td>0</td>\n",
              "      <td>0</td>\n",
              "      <td>1</td>\n",
              "      <td>3</td>\n",
              "      <td>7</td>\n",
              "      <td>9</td>\n",
              "      <td>412</td>\n",
              "      <td>117</td>\n",
              "      <td>445</td>\n",
              "      <td>181</td>\n",
              "      <td>165</td>\n",
              "      <td>203</td>\n",
              "      <td>1</td>\n",
              "      <td>0</td>\n",
              "      <td>0</td>\n",
              "      <td>0</td>\n",
              "      <td>1</td>\n",
              "      <td>0</td>\n",
              "      <td>0</td>\n",
              "      <td>0</td>\n",
              "      <td>62</td>\n",
              "      <td>2</td>\n",
              "      <td>2</td>\n",
              "      <td>4</td>\n",
              "      <td>2014</td>\n",
              "      <td>21</td>\n",
              "      <td>1</td>\n",
              "      <td>1</td>\n",
              "      <td>1</td>\n",
              "      <td>4</td>\n",
              "      <td>0</td>\n",
              "      <td>1</td>\n",
              "      <td>7</td>\n",
              "      <td>3</td>\n",
              "      <td>3</td>\n",
              "      <td>1523</td>\n",
              "      <td>0</td>\n",
              "      <td>1</td>\n",
              "      <td>0</td>\n",
              "      <td>0</td>\n",
              "      <td>1</td>\n",
              "      <td>0</td>\n",
              "      <td>0</td>\n",
              "      <td>0</td>\n",
              "    </tr>\n",
              "  </tbody>\n",
              "</table>\n",
              "</div>"
            ],
            "text/plain": [
              "   Disposable_Income  ...  Marital_Status_Widow\n",
              "0            77504.4  ...                     0\n",
              "1            56784.0  ...                     0\n",
              "2           103714.8  ...                     0\n",
              "3            46311.6  ...                     0\n",
              "4            87486.0  ...                     0\n",
              "\n",
              "[5 rows x 45 columns]"
            ]
          },
          "metadata": {},
          "execution_count": 41
        }
      ]
    },
    {
      "cell_type": "code",
      "metadata": {
        "id": "zxckszFz0Njb"
      },
      "source": [
        "# prepare dataframe for modeling\n",
        "X = train.drop(['Response'],axis = 1).copy()\n",
        "y = train['Response'].copy()\n",
        "\n",
        "test_data = test.copy()"
      ],
      "execution_count": 42,
      "outputs": []
    },
    {
      "cell_type": "code",
      "metadata": {
        "id": "eSK-vzcd0q3E"
      },
      "source": [
        "# Additional Feature-engineering\n",
        "def get_stats_per_row(data):\n",
        "    data['mv_row'] = data.isna().sum(axis=1)\n",
        "    #data['min_row'] = data.min(axis=1)\n",
        "    data['std_row'] = data.std(axis=1)\n",
        "    data['var_row'] = data.var(axis=1)\n",
        "    return data\n",
        "\n",
        "X = get_stats_per_row(X)\n",
        "test_data = get_stats_per_row(test_data)"
      ],
      "execution_count": 43,
      "outputs": []
    },
    {
      "cell_type": "code",
      "metadata": {
        "id": "mXd5juYF23cu"
      },
      "source": [
        "X['Date_Customer_week'] = X['Date_Customer_week'].astype(\"int\")\n",
        "test_data['Date_Customer_week'] = test_data['Date_Customer_week'].astype(\"int\")"
      ],
      "execution_count": 44,
      "outputs": []
    },
    {
      "cell_type": "code",
      "metadata": {
        "id": "7GVek7jp0q0g"
      },
      "source": [
        "train = X.join(y)\n",
        "features = list(train) \n",
        "target = 'Response'                 \n",
        "features.remove('Response')                "
      ],
      "execution_count": 45,
      "outputs": []
    },
    {
      "cell_type": "code",
      "metadata": {
        "id": "vrDoN-m-0qu3",
        "colab": {
          "base_uri": "https://localhost:8080/"
        },
        "outputId": "f091d408-6859-41f3-fde3-4dc3c9d11935"
      },
      "source": [
        "!pip install bayesian-optimization --quiet"
      ],
      "execution_count": 46,
      "outputs": [
        {
          "output_type": "stream",
          "name": "stdout",
          "text": [
            "  Building wheel for bayesian-optimization (setup.py) ... \u001b[?25l\u001b[?25hdone\n"
          ]
        }
      ]
    },
    {
      "cell_type": "code",
      "metadata": {
        "id": "S1Duu-7v0qsP"
      },
      "source": [
        "from sklearn.preprocessing import LabelEncoder\n",
        "from sklearn.model_selection import train_test_split, StratifiedKFold,KFold\n",
        "from bayes_opt import BayesianOptimization\n",
        "from datetime import datetime\n",
        "from sklearn.metrics import precision_score, recall_score, confusion_matrix, accuracy_score, roc_auc_score, f1_score, roc_curve, auc,precision_recall_curve\n",
        "from sklearn import metrics\n",
        "from sklearn import preprocessing\n",
        "import lightgbm as lgb\n",
        "import warnings\n",
        "warnings.filterwarnings(\"ignore\")\n",
        "import itertools\n",
        "from scipy import interp\n",
        "import seaborn as sns\n",
        "import matplotlib.pyplot as plt\n",
        "%matplotlib inline\n",
        "from matplotlib import rcParams"
      ],
      "execution_count": 47,
      "outputs": []
    },
    {
      "cell_type": "markdown",
      "metadata": {
        "id": "5tjKyzib1SpA"
      },
      "source": [
        "# Bayesian Optimization"
      ]
    },
    {
      "cell_type": "code",
      "metadata": {
        "id": "11LOIbLZ1IWc"
      },
      "source": [
        "# Cut train and validation\n",
        "bayesian_tr_idx, bayesian_val_idx = train_test_split(train, test_size = 0.2, random_state = 42, stratify = train['Response'])\n",
        "bayesian_tr_idx = bayesian_tr_idx.index\n",
        "bayesian_val_idx = bayesian_val_idx.index"
      ],
      "execution_count": 48,
      "outputs": []
    },
    {
      "cell_type": "code",
      "metadata": {
        "colab": {
          "base_uri": "https://localhost:8080/"
        },
        "id": "vDmKGDmF1OYu",
        "outputId": "4ca3becd-054e-436a-fc8c-516a178c3b04"
      },
      "source": [
        "print(bayesian_tr_idx.shape, bayesian_val_idx.shape)"
      ],
      "execution_count": 49,
      "outputs": [
        {
          "output_type": "stream",
          "name": "stdout",
          "text": [
            "(1254,) (314,)\n"
          ]
        }
      ]
    },
    {
      "cell_type": "code",
      "metadata": {
        "id": "PUiFiRt91OWT"
      },
      "source": [
        "# Black Box LGBM \n",
        "def LGB_bayesian(\n",
        "    #learning_rate,\n",
        "    num_leaves, \n",
        "    bagging_fraction,\n",
        "    feature_fraction,\n",
        "    min_child_weight, \n",
        "    min_data_in_leaf,\n",
        "    scale_pos_weight,\n",
        "    max_depth,\n",
        "    reg_alpha,\n",
        "    reg_lambda\n",
        "     ):\n",
        "    \n",
        "    # LightGBM expects next four parameters need to be integer. \n",
        "    num_leaves = int(num_leaves)\n",
        "    min_data_in_leaf = int(min_data_in_leaf)\n",
        "    scale_pos_weight = int(scale_pos_weight)\n",
        "    max_depth = int(max_depth)\n",
        "\n",
        "    assert type(num_leaves) == int\n",
        "    assert type(min_data_in_leaf) == int\n",
        "    assert type(scale_pos_weight) == int\n",
        "    assert type(max_depth) == int\n",
        "    \n",
        "\n",
        "    param = {\n",
        "              'num_leaves': num_leaves, \n",
        "              'min_data_in_leaf': min_data_in_leaf,\n",
        "              'min_child_weight': min_child_weight,\n",
        "              'scale_pos_weight': scale_pos_weight,\n",
        "              'bagging_fraction' : bagging_fraction,\n",
        "              'feature_fraction' : feature_fraction,\n",
        "              #'learning_rate' : learning_rate,\n",
        "              'max_depth': max_depth,\n",
        "              'reg_alpha': reg_alpha,\n",
        "              'reg_lambda': reg_lambda,\n",
        "              'objective': 'binary',\n",
        "              'save_binary': True,\n",
        "              'zero_as_missing': True,\n",
        "              'seed': 1337,\n",
        "              'feature_fraction_seed': 1337,\n",
        "              'bagging_seed': 1337,\n",
        "              'drop_seed': 1337,\n",
        "              'data_random_seed': 1337,\n",
        "              'boosting_type': 'gbdt',  #dart\n",
        "              'verbose': 1,\n",
        "              #'is_unbalance': True,  # Note: Either of scale_pos_weight or is_unbalance must be used\n",
        "              'boost_from_average': True,\n",
        "              'metric':'auc'}    \n",
        "    \n",
        "    oof = np.zeros(len(train))\n",
        "    trn_data= lgb.Dataset(train.iloc[bayesian_tr_idx][features].values, label=train.iloc[bayesian_tr_idx][target].values)\n",
        "    val_data= lgb.Dataset(train.iloc[bayesian_val_idx][features].values, label=train.iloc[bayesian_val_idx][target].values)\n",
        "\n",
        "    clf = lgb.train(param, trn_data,  num_boost_round=50, valid_sets = [trn_data, val_data], verbose_eval=0, early_stopping_rounds = 50)\n",
        "    \n",
        "    oof[bayesian_val_idx]  = clf.predict(train.iloc[bayesian_val_idx][features].values, num_iteration=clf.best_iteration)  \n",
        "    \n",
        "    score = roc_auc_score(train.iloc[bayesian_val_idx][target].values, oof[bayesian_val_idx])\n",
        "\n",
        "    return score"
      ],
      "execution_count": 50,
      "outputs": []
    },
    {
      "cell_type": "code",
      "metadata": {
        "id": "10gZ1eZK1OUY"
      },
      "source": [
        "bounds_LGB = {\n",
        "    #'learning_rate': (0.001,0.005),\n",
        "    'num_leaves'       : (20, 100),               \n",
        "    'bagging_fraction' : (0.4, 0.8),\n",
        "    'feature_fraction' : (0.2, 1),\n",
        "    'min_child_weight': (0.0010, 0.0025),   \n",
        "    'min_data_in_leaf': (50, 106),               \n",
        "    'scale_pos_weight': (3, 10),\n",
        "    'max_depth':(4,35),   # 24,30                       \n",
        "    'reg_alpha': (1.2, 1.5), \n",
        "    'reg_lambda': (1.2, 1.5)\n",
        "    \n",
        "}"
      ],
      "execution_count": 51,
      "outputs": []
    },
    {
      "cell_type": "code",
      "metadata": {
        "id": "PkTFZX651OSo"
      },
      "source": [
        "LGB_BO = BayesianOptimization(LGB_bayesian, bounds_LGB, random_state=42)"
      ],
      "execution_count": 52,
      "outputs": []
    },
    {
      "cell_type": "code",
      "metadata": {
        "id": "epAfp9CY1OQ7"
      },
      "source": [
        "init_points = 10\n",
        "n_iter = 10  "
      ],
      "execution_count": 53,
      "outputs": []
    },
    {
      "cell_type": "code",
      "metadata": {
        "colab": {
          "base_uri": "https://localhost:8080/"
        },
        "id": "gUSsHrEF1ONd",
        "outputId": "6372d746-c30c-4370-a726-fb725f7d86ef"
      },
      "source": [
        "   print('-' * 130)\n",
        "\n",
        "with warnings.catch_warnings():\n",
        "    warnings.filterwarnings('ignore')\n",
        "    LGB_BO.maximize(init_points=init_points, n_iter=n_iter, acq='ucb', xi=0.0, alpha=1e-6)"
      ],
      "execution_count": 54,
      "outputs": [
        {
          "output_type": "stream",
          "name": "stdout",
          "text": [
            "----------------------------------------------------------------------------------------------------------------------------------\n",
            "|   iter    |  target   | baggin... | featur... | max_depth | min_ch... | min_da... | num_le... | reg_alpha | reg_la... | scale_... |\n",
            "-------------------------------------------------------------------------------------------------------------------------------------\n",
            "| \u001b[0m 1       \u001b[0m | \u001b[0m 0.897   \u001b[0m | \u001b[0m 0.5498  \u001b[0m | \u001b[0m 0.9606  \u001b[0m | \u001b[0m 26.69   \u001b[0m | \u001b[0m 0.001898\u001b[0m | \u001b[0m 58.74   \u001b[0m | \u001b[0m 32.48   \u001b[0m | \u001b[0m 1.217   \u001b[0m | \u001b[0m 1.46    \u001b[0m | \u001b[0m 7.208   \u001b[0m |\n",
            "| \u001b[0m 2       \u001b[0m | \u001b[0m 0.8961  \u001b[0m | \u001b[0m 0.6832  \u001b[0m | \u001b[0m 0.2165  \u001b[0m | \u001b[0m 34.07   \u001b[0m | \u001b[0m 0.002249\u001b[0m | \u001b[0m 61.89   \u001b[0m | \u001b[0m 34.55   \u001b[0m | \u001b[0m 1.255   \u001b[0m | \u001b[0m 1.291   \u001b[0m | \u001b[0m 6.673   \u001b[0m |\n",
            "| \u001b[95m 3       \u001b[0m | \u001b[95m 0.9065  \u001b[0m | \u001b[95m 0.5728  \u001b[0m | \u001b[95m 0.433   \u001b[0m | \u001b[95m 22.97   \u001b[0m | \u001b[95m 0.001209\u001b[0m | \u001b[95m 66.36   \u001b[0m | \u001b[95m 49.31   \u001b[0m | \u001b[95m 1.337   \u001b[0m | \u001b[95m 1.436   \u001b[0m | \u001b[95m 4.398   \u001b[0m |\n",
            "| \u001b[95m 4       \u001b[0m | \u001b[95m 0.9079  \u001b[0m | \u001b[95m 0.6057  \u001b[0m | \u001b[95m 0.6739  \u001b[0m | \u001b[95m 5.44    \u001b[0m | \u001b[95m 0.001911\u001b[0m | \u001b[95m 59.55   \u001b[0m | \u001b[95m 25.2    \u001b[0m | \u001b[95m 1.485   \u001b[0m | \u001b[95m 1.49    \u001b[0m | \u001b[95m 8.659   \u001b[0m |\n",
            "| \u001b[0m 5       \u001b[0m | \u001b[0m 0.894   \u001b[0m | \u001b[0m 0.5218  \u001b[0m | \u001b[0m 0.2781  \u001b[0m | \u001b[0m 25.21   \u001b[0m | \u001b[0m 0.00166 \u001b[0m | \u001b[0m 56.83   \u001b[0m | \u001b[0m 59.61   \u001b[0m | \u001b[0m 1.21    \u001b[0m | \u001b[0m 1.473   \u001b[0m | \u001b[0m 4.811   \u001b[0m |\n",
            "| \u001b[0m 6       \u001b[0m | \u001b[0m 0.896   \u001b[0m | \u001b[0m 0.665   \u001b[0m | \u001b[0m 0.4494  \u001b[0m | \u001b[0m 20.12   \u001b[0m | \u001b[0m 0.00182 \u001b[0m | \u001b[0m 60.35   \u001b[0m | \u001b[0m 97.57   \u001b[0m | \u001b[0m 1.433   \u001b[0m | \u001b[0m 1.482   \u001b[0m | \u001b[0m 9.264   \u001b[0m |\n",
            "| \u001b[0m 7       \u001b[0m | \u001b[0m 0.9001  \u001b[0m | \u001b[0m 0.6392  \u001b[0m | \u001b[0m 0.9375  \u001b[0m | \u001b[0m 6.743   \u001b[0m | \u001b[0m 0.001294\u001b[0m | \u001b[0m 52.53   \u001b[0m | \u001b[0m 46.03   \u001b[0m | \u001b[0m 1.317   \u001b[0m | \u001b[0m 1.281   \u001b[0m | \u001b[0m 8.801   \u001b[0m |\n",
            "| \u001b[0m 8       \u001b[0m | \u001b[0m 0.893   \u001b[0m | \u001b[0m 0.5427  \u001b[0m | \u001b[0m 0.4247  \u001b[0m | \u001b[0m 20.82   \u001b[0m | \u001b[0m 0.001211\u001b[0m | \u001b[0m 94.92   \u001b[0m | \u001b[0m 25.96   \u001b[0m | \u001b[0m 1.496   \u001b[0m | \u001b[0m 1.432   \u001b[0m | \u001b[0m 4.391   \u001b[0m |\n",
            "| \u001b[0m 9       \u001b[0m | \u001b[0m 0.9052  \u001b[0m | \u001b[0m 0.4022  \u001b[0m | \u001b[0m 0.8524  \u001b[0m | \u001b[0m 25.91   \u001b[0m | \u001b[0m 0.002094\u001b[0m | \u001b[0m 93.19   \u001b[0m | \u001b[0m 25.92   \u001b[0m | \u001b[0m 1.308   \u001b[0m | \u001b[0m 1.235   \u001b[0m | \u001b[0m 9.042   \u001b[0m |\n",
            "| \u001b[0m 10      \u001b[0m | \u001b[0m 0.9054  \u001b[0m | \u001b[0m 0.6493  \u001b[0m | \u001b[0m 0.4647  \u001b[0m | \u001b[0m 5.97    \u001b[0m | \u001b[0m 0.001466\u001b[0m | \u001b[0m 68.21   \u001b[0m | \u001b[0m 78.37   \u001b[0m | \u001b[0m 1.391   \u001b[0m | \u001b[0m 1.466   \u001b[0m | \u001b[0m 6.306   \u001b[0m |\n",
            "| \u001b[0m 11      \u001b[0m | \u001b[0m 0.897   \u001b[0m | \u001b[0m 0.5094  \u001b[0m | \u001b[0m 0.2451  \u001b[0m | \u001b[0m 30.81   \u001b[0m | \u001b[0m 0.002219\u001b[0m | \u001b[0m 106.0   \u001b[0m | \u001b[0m 99.73   \u001b[0m | \u001b[0m 1.367   \u001b[0m | \u001b[0m 1.431   \u001b[0m | \u001b[0m 9.613   \u001b[0m |\n",
            "| \u001b[0m 12      \u001b[0m | \u001b[0m 0.8995  \u001b[0m | \u001b[0m 0.7725  \u001b[0m | \u001b[0m 0.4151  \u001b[0m | \u001b[0m 4.29    \u001b[0m | \u001b[0m 0.001641\u001b[0m | \u001b[0m 102.7   \u001b[0m | \u001b[0m 53.96   \u001b[0m | \u001b[0m 1.232   \u001b[0m | \u001b[0m 1.326   \u001b[0m | \u001b[0m 9.907   \u001b[0m |\n",
            "| \u001b[0m 13      \u001b[0m | \u001b[0m 0.9043  \u001b[0m | \u001b[0m 0.6276  \u001b[0m | \u001b[0m 0.7196  \u001b[0m | \u001b[0m 33.86   \u001b[0m | \u001b[0m 0.00167 \u001b[0m | \u001b[0m 85.41   \u001b[0m | \u001b[0m 64.72   \u001b[0m | \u001b[0m 1.214   \u001b[0m | \u001b[0m 1.364   \u001b[0m | \u001b[0m 9.765   \u001b[0m |\n",
            "| \u001b[0m 14      \u001b[0m | \u001b[0m 0.9056  \u001b[0m | \u001b[0m 0.7746  \u001b[0m | \u001b[0m 0.253   \u001b[0m | \u001b[0m 6.403   \u001b[0m | \u001b[0m 0.002268\u001b[0m | \u001b[0m 78.54   \u001b[0m | \u001b[0m 33.84   \u001b[0m | \u001b[0m 1.268   \u001b[0m | \u001b[0m 1.483   \u001b[0m | \u001b[0m 9.646   \u001b[0m |\n",
            "| \u001b[0m 15      \u001b[0m | \u001b[0m 0.8932  \u001b[0m | \u001b[0m 0.4185  \u001b[0m | \u001b[0m 0.889   \u001b[0m | \u001b[0m 4.629   \u001b[0m | \u001b[0m 0.001577\u001b[0m | \u001b[0m 105.6   \u001b[0m | \u001b[0m 99.09   \u001b[0m | \u001b[0m 1.481   \u001b[0m | \u001b[0m 1.389   \u001b[0m | \u001b[0m 9.753   \u001b[0m |\n",
            "| \u001b[0m 16      \u001b[0m | \u001b[0m 0.9014  \u001b[0m | \u001b[0m 0.4603  \u001b[0m | \u001b[0m 0.5719  \u001b[0m | \u001b[0m 7.334   \u001b[0m | \u001b[0m 0.001387\u001b[0m | \u001b[0m 53.38   \u001b[0m | \u001b[0m 99.18   \u001b[0m | \u001b[0m 1.373   \u001b[0m | \u001b[0m 1.323   \u001b[0m | \u001b[0m 3.583   \u001b[0m |\n",
            "| \u001b[0m 17      \u001b[0m | \u001b[0m 0.8979  \u001b[0m | \u001b[0m 0.7138  \u001b[0m | \u001b[0m 0.6438  \u001b[0m | \u001b[0m 23.16   \u001b[0m | \u001b[0m 0.001583\u001b[0m | \u001b[0m 83.34   \u001b[0m | \u001b[0m 98.41   \u001b[0m | \u001b[0m 1.432   \u001b[0m | \u001b[0m 1.297   \u001b[0m | \u001b[0m 3.078   \u001b[0m |\n",
            "| \u001b[0m 18      \u001b[0m | \u001b[0m 0.9077  \u001b[0m | \u001b[0m 0.4558  \u001b[0m | \u001b[0m 0.614   \u001b[0m | \u001b[0m 32.96   \u001b[0m | \u001b[0m 0.001347\u001b[0m | \u001b[0m 105.5   \u001b[0m | \u001b[0m 57.49   \u001b[0m | \u001b[0m 1.464   \u001b[0m | \u001b[0m 1.278   \u001b[0m | \u001b[0m 9.509   \u001b[0m |\n",
            "| \u001b[0m 19      \u001b[0m | \u001b[0m 0.8889  \u001b[0m | \u001b[0m 0.4697  \u001b[0m | \u001b[0m 0.2459  \u001b[0m | \u001b[0m 22.66   \u001b[0m | \u001b[0m 0.001701\u001b[0m | \u001b[0m 89.55   \u001b[0m | \u001b[0m 59.84   \u001b[0m | \u001b[0m 1.417   \u001b[0m | \u001b[0m 1.31    \u001b[0m | \u001b[0m 9.701   \u001b[0m |\n",
            "| \u001b[0m 20      \u001b[0m | \u001b[0m 0.9005  \u001b[0m | \u001b[0m 0.4325  \u001b[0m | \u001b[0m 0.915   \u001b[0m | \u001b[0m 6.143   \u001b[0m | \u001b[0m 0.002233\u001b[0m | \u001b[0m 78.13   \u001b[0m | \u001b[0m 33.11   \u001b[0m | \u001b[0m 1.306   \u001b[0m | \u001b[0m 1.322   \u001b[0m | \u001b[0m 8.554   \u001b[0m |\n",
            "=====================================================================================================================================\n"
          ]
        }
      ]
    },
    {
      "cell_type": "code",
      "metadata": {
        "colab": {
          "base_uri": "https://localhost:8080/"
        },
        "id": "hg1qMnts1OK_",
        "outputId": "1b22f213-8411-4915-d589-bd5fed74414e"
      },
      "source": [
        "LGB_BO.max['target']"
      ],
      "execution_count": 55,
      "outputs": [
        {
          "output_type": "execute_result",
          "data": {
            "text/plain": [
              "0.9078947368421053"
            ]
          },
          "metadata": {},
          "execution_count": 55
        }
      ]
    },
    {
      "cell_type": "code",
      "metadata": {
        "colab": {
          "base_uri": "https://localhost:8080/"
        },
        "id": "Qro7y8ov1OIH",
        "outputId": "aead13fc-559c-4a7d-ae4f-54c0317a2afb"
      },
      "source": [
        "LGB_BO.max['params']"
      ],
      "execution_count": 56,
      "outputs": [
        {
          "output_type": "execute_result",
          "data": {
            "text/plain": [
              "{'bagging_fraction': 0.6056937753654447,\n",
              " 'feature_fraction': 0.6739316550896339,\n",
              " 'max_depth': 5.439962794319929,\n",
              " 'min_child_weight': 0.0019113172778521576,\n",
              " 'min_data_in_leaf': 59.54935092648833,\n",
              " 'num_leaves': 25.20412743882236,\n",
              " 'reg_alpha': 1.4846656611759999,\n",
              " 'reg_lambda': 1.4896896099223678,\n",
              " 'scale_pos_weight': 8.658781436815229}"
            ]
          },
          "metadata": {},
          "execution_count": 56
        }
      ]
    },
    {
      "cell_type": "markdown",
      "metadata": {
        "id": "9vMY2G_U2doI"
      },
      "source": [
        "#Confusion Matrix"
      ]
    },
    {
      "cell_type": "code",
      "metadata": {
        "id": "I6kj0cCW2UdI"
      },
      "source": [
        "# Confusion matrix \n",
        "def plot_confusion_matrix(cm, classes,\n",
        "                          normalize = False,\n",
        "                          title = 'Confusion matrix\"',\n",
        "                          cmap = plt.cm.Blues) :\n",
        "    plt.imshow(cm, interpolation = 'nearest', cmap = cmap)\n",
        "    plt.title(title)\n",
        "    plt.colorbar()\n",
        "    tick_marks = np.arange(len(classes))\n",
        "    plt.xticks(tick_marks, classes, rotation = 0)\n",
        "    plt.yticks(tick_marks, classes)\n",
        "\n",
        "    thresh = cm.max() / 2.\n",
        "    for i, j in itertools.product(range(cm.shape[0]), range(cm.shape[1])) :\n",
        "        plt.text(j, i, cm[i, j],\n",
        "                 horizontalalignment = 'center',\n",
        "                 color = 'white' if cm[i, j] > thresh else 'black')\n",
        " \n",
        "    plt.tight_layout()\n",
        "    plt.ylabel('True label')\n",
        "    plt.xlabel('Predicted label')"
      ],
      "execution_count": 57,
      "outputs": []
    },
    {
      "cell_type": "markdown",
      "metadata": {
        "id": "q9TOcrWL2jwW"
      },
      "source": [
        "#LGB + best hyperparameters"
      ]
    },
    {
      "cell_type": "code",
      "metadata": {
        "id": "VEOtQdFy2UbA"
      },
      "source": [
        "param_lgb = {\n",
        "        'min_data_in_leaf': int(LGB_BO.max['params']['min_data_in_leaf']), \n",
        "        'num_leaves': int(LGB_BO.max['params']['num_leaves']), \n",
        "        #'learning_rate': LGB_BO.max['params']['learning_rate'],\n",
        "        'min_child_weight': LGB_BO.max['params']['min_child_weight'],\n",
        "        'bagging_fraction': LGB_BO.max['params']['bagging_fraction'], \n",
        "        'feature_fraction': LGB_BO.max['params']['feature_fraction'],\n",
        "        'reg_lambda': LGB_BO.max['params']['reg_lambda'],\n",
        "        'reg_alpha': LGB_BO.max['params']['reg_alpha'],\n",
        "        'max_depth': int(LGB_BO.max['params']['max_depth']),\n",
        "        'scale_pos_weight': int(LGB_BO.max['params']['scale_pos_weight']),\n",
        "        'objective': 'binary',\n",
        "        'save_binary': True,\n",
        "        'seed': 1337,\n",
        "        'feature_fraction_seed': 1337,\n",
        "        'bagging_seed': 1337,\n",
        "        'drop_seed': 1337,\n",
        "        'data_random_seed': 1337,\n",
        "        'boosting_type': 'gbdt',   # dart\n",
        "        'verbose': 1,\n",
        "        #'is_unbalance': True, Note: Either 'is_unbalance' or 'scale_pos_weight' must be used.\n",
        "        'boost_from_average': True,\n",
        "        'metric':'auc'\n",
        "    }"
      ],
      "execution_count": 58,
      "outputs": []
    },
    {
      "cell_type": "code",
      "metadata": {
        "colab": {
          "base_uri": "https://localhost:8080/",
          "height": 1000
        },
        "id": "TJOk9Fhw2UYX",
        "outputId": "a7fccbb2-162b-4027-f19b-ffec0da22842"
      },
      "source": [
        "plt.rcParams[\"axes.grid\"] = True\n",
        "\n",
        "nfold = 10                  \n",
        "skf = StratifiedKFold(n_splits=nfold, shuffle=True, random_state=42)\n",
        "\n",
        "oof = np.zeros(len(train))\n",
        "mean_fpr = np.linspace(0,1,100)\n",
        "cms= []\n",
        "tprs = []\n",
        "aucs = []\n",
        "y_real = []\n",
        "y_proba = []\n",
        "recalls = []\n",
        "roc_aucs = []\n",
        "f1_scores = []\n",
        "accuracies = []\n",
        "precisions = []\n",
        "predictions = np.zeros(len(test_data))\n",
        "feature_importance_df = pd.DataFrame()\n",
        "\n",
        "i = 1\n",
        "for train_idx, valid_idx in skf.split(train, train.Response.values):\n",
        "    print(\"\\nfold {}\".format(i))\n",
        "    trn_data = lgb.Dataset(train.iloc[train_idx][features].values,\n",
        "                                   label=train.iloc[train_idx][target].values\n",
        "                                   )\n",
        "    val_data = lgb.Dataset(train.iloc[valid_idx][features].values,\n",
        "                                   label=train.iloc[valid_idx][target].values\n",
        "                                   )   \n",
        "    \n",
        "    clf = lgb.train(param_lgb, trn_data, num_boost_round = 10000, valid_sets = [trn_data, val_data], verbose_eval = 100, early_stopping_rounds = 100)\n",
        "    oof[valid_idx] = clf.predict(train.iloc[valid_idx][features].values) \n",
        "    \n",
        "    predictions += clf.predict(test_data[features]) / nfold\n",
        "    \n",
        "    # Scores \n",
        "    roc_aucs.append(roc_auc_score(train.iloc[valid_idx][target].values, oof[valid_idx]))\n",
        "    accuracies.append(accuracy_score(train.iloc[valid_idx][target].values, oof[valid_idx].round()))\n",
        "    recalls.append(recall_score(train.iloc[valid_idx][target].values, oof[valid_idx].round()))\n",
        "    precisions.append(precision_score(train.iloc[valid_idx][target].values ,oof[valid_idx].round()))\n",
        "    f1_scores.append(f1_score(train.iloc[valid_idx][target].values, oof[valid_idx].round()))\n",
        "    \n",
        "    # Roc curve by folds\n",
        "    f = plt.figure(1)\n",
        "    fpr, tpr, t = roc_curve(train.iloc[valid_idx][target].values, oof[valid_idx])\n",
        "    tprs.append(interp(mean_fpr, fpr, tpr))\n",
        "    roc_auc = auc(fpr, tpr)\n",
        "    aucs.append(roc_auc)\n",
        "    plt.plot(fpr, tpr, lw=2, alpha=0.3, label='ROC fold %d (AUC = %0.4f)' % (i,roc_auc))\n",
        "    \n",
        "    # Precion recall by folds\n",
        "    g = plt.figure(2)\n",
        "    precision, recall, _ = precision_recall_curve(train.iloc[valid_idx][target].values, oof[valid_idx])\n",
        "    y_real.append(train.iloc[valid_idx][target].values)\n",
        "    y_proba.append(oof[valid_idx])\n",
        "    plt.plot(recall, precision, lw=2, alpha=0.3, label='P|R fold %d' % (i))  \n",
        "    \n",
        "    i= i+1\n",
        "    \n",
        "    # Confusion matrix by folds\n",
        "    cms.append(confusion_matrix(train.iloc[valid_idx][target].values, oof[valid_idx].round()))\n",
        "    \n",
        "    # Features imp\n",
        "    fold_importance_df = pd.DataFrame()\n",
        "    fold_importance_df[\"Feature\"] = features\n",
        "    fold_importance_df[\"importance\"] = clf.feature_importance()\n",
        "    fold_importance_df[\"fold\"] = nfold + 1\n",
        "    feature_importance_df = pd.concat([feature_importance_df, fold_importance_df], axis=0)\n",
        "\n",
        "# Metrics\n",
        "print(\n",
        "        '\\nCV roc score        : {0:.4f}, std: {1:.4f}.'.format(np.mean(roc_aucs), np.std(roc_aucs)),\n",
        "        '\\nCV accuracy score   : {0:.4f}, std: {1:.4f}.'.format(np.mean(accuracies), np.std(accuracies)),\n",
        "        '\\nCV recall score     : {0:.4f}, std: {1:.4f}.'.format(np.mean(recalls), np.std(recalls)),\n",
        "        '\\nCV precision score  : {0:.4f}, std: {1:.4f}.'.format(np.mean(precisions), np.std(precisions)),\n",
        "        '\\nCV f1 score         : {0:.4f}, std: {1:.4f}.'.format(np.mean(f1_scores), np.std(f1_scores))\n",
        ")\n",
        "\n",
        "#ROC \n",
        "f = plt.figure(1)\n",
        "plt.plot([0,1],[0,1],linestyle = '--',lw = 2,color = 'grey')\n",
        "mean_tpr = np.mean(tprs, axis=0)\n",
        "mean_auc = auc(mean_fpr, mean_tpr)\n",
        "plt.plot(mean_fpr, mean_tpr, color='blue',\n",
        "         label=r'Mean ROC (AUC = %0.4f)' % (np.mean(roc_aucs)),lw=2, alpha=1)\n",
        "\n",
        "plt.xlabel('False Positive Rate')\n",
        "plt.ylabel('True Positive Rate')\n",
        "plt.title('LGB ROC curve by folds')\n",
        "plt.legend(loc=\"lower right\")\n",
        "\n",
        "# PR plt\n",
        "g = plt.figure(2)\n",
        "plt.plot([0,1],[1,0],linestyle = '--',lw = 2,color = 'grey')\n",
        "y_real = np.concatenate(y_real)\n",
        "y_proba = np.concatenate(y_proba)\n",
        "precision, recall, _ = precision_recall_curve(y_real, y_proba)\n",
        "plt.plot(recall, precision, color='blue',\n",
        "         label=r'Mean P|R')\n",
        "plt.xlabel('Recall')\n",
        "plt.ylabel('Precision')\n",
        "plt.title('P|R curve by folds')\n",
        "plt.legend(loc=\"lower left\")\n",
        "\n",
        "# Confusion maxtrix & metrics\n",
        "plt.rcParams[\"axes.grid\"] = False\n",
        "cm = np.average(cms, axis=0) \n",
        "class_names = [0,1]\n",
        "plt.figure()\n",
        "plot_confusion_matrix(cm, \n",
        "                      classes=class_names, \n",
        "                      title= 'LGB Confusion matrix [averaged/folds]')\n",
        "plt.show()"
      ],
      "execution_count": 59,
      "outputs": [
        {
          "output_type": "stream",
          "name": "stdout",
          "text": [
            "\n",
            "fold 1\n",
            "Training until validation scores don't improve for 100 rounds.\n",
            "[100]\ttraining's auc: 0.991697\tvalid_1's auc: 0.866228\n",
            "[200]\ttraining's auc: 0.998651\tvalid_1's auc: 0.872807\n",
            "Early stopping, best iteration is:\n",
            "[135]\ttraining's auc: 0.995637\tvalid_1's auc: 0.87594\n",
            "\n",
            "fold 2\n",
            "Training until validation scores don't improve for 100 rounds.\n",
            "[100]\ttraining's auc: 0.992912\tvalid_1's auc: 0.905702\n",
            "[200]\ttraining's auc: 0.99903\tvalid_1's auc: 0.908521\n",
            "[300]\ttraining's auc: 0.99966\tvalid_1's auc: 0.9151\n",
            "Early stopping, best iteration is:\n",
            "[286]\ttraining's auc: 0.999648\tvalid_1's auc: 0.91604\n",
            "\n",
            "fold 3\n",
            "Training until validation scores don't improve for 100 rounds.\n",
            "[100]\ttraining's auc: 0.992288\tvalid_1's auc: 0.91604\n",
            "Early stopping, best iteration is:\n",
            "[39]\ttraining's auc: 0.96906\tvalid_1's auc: 0.921053\n",
            "\n",
            "fold 4\n",
            "Training until validation scores don't improve for 100 rounds.\n",
            "[100]\ttraining's auc: 0.992852\tvalid_1's auc: 0.911341\n",
            "[200]\ttraining's auc: 0.998553\tvalid_1's auc: 0.912281\n",
            "Early stopping, best iteration is:\n",
            "[152]\ttraining's auc: 0.996792\tvalid_1's auc: 0.91792\n",
            "\n",
            "fold 5\n",
            "Training until validation scores don't improve for 100 rounds.\n",
            "[100]\ttraining's auc: 0.992496\tvalid_1's auc: 0.91698\n",
            "Early stopping, best iteration is:\n",
            "[44]\ttraining's auc: 0.971667\tvalid_1's auc: 0.924499\n",
            "\n",
            "fold 6\n",
            "Training until validation scores don't improve for 100 rounds.\n",
            "[100]\ttraining's auc: 0.994734\tvalid_1's auc: 0.91886\n",
            "Early stopping, best iteration is:\n",
            "[93]\ttraining's auc: 0.993906\tvalid_1's auc: 0.922306\n",
            "\n",
            "fold 7\n",
            "Training until validation scores don't improve for 100 rounds.\n",
            "[100]\ttraining's auc: 0.992487\tvalid_1's auc: 0.901316\n",
            "Early stopping, best iteration is:\n",
            "[47]\ttraining's auc: 0.976363\tvalid_1's auc: 0.909461\n",
            "\n",
            "fold 8\n",
            "Training until validation scores don't improve for 100 rounds.\n",
            "[100]\ttraining's auc: 0.993155\tvalid_1's auc: 0.852444\n",
            "Early stopping, best iteration is:\n",
            "[71]\ttraining's auc: 0.98773\tvalid_1's auc: 0.862469\n",
            "\n",
            "fold 9\n",
            "Training until validation scores don't improve for 100 rounds.\n",
            "[100]\ttraining's auc: 0.992332\tvalid_1's auc: 0.906505\n",
            "[200]\ttraining's auc: 0.998595\tvalid_1's auc: 0.915005\n",
            "Early stopping, best iteration is:\n",
            "[173]\ttraining's auc: 0.997515\tvalid_1's auc: 0.916313\n",
            "\n",
            "fold 10\n",
            "Training until validation scores don't improve for 100 rounds.\n",
            "[100]\ttraining's auc: 0.993243\tvalid_1's auc: 0.878788\n",
            "Early stopping, best iteration is:\n",
            "[94]\ttraining's auc: 0.992345\tvalid_1's auc: 0.881944\n",
            "\n",
            "CV roc score        : 0.9048, std: 0.0214. \n",
            "CV accuracy score   : 0.8367, std: 0.0264. \n",
            "CV recall score     : 0.7571, std: 0.0817. \n",
            "CV precision score  : 0.4858, std: 0.0601. \n",
            "CV f1 score         : 0.5872, std: 0.0407.\n"
          ]
        },
        {
          "output_type": "display_data",
          "data": {
            "image/png": "[encoded data removed]",
            "text/plain": [
              "<Figure size 432x288 with 1 Axes>"
            ]
          },
          "metadata": {
            "needs_background": "light"
          }
        },
        {
          "output_type": "display_data",
          "data": {
            "image/png": "[encoded data removed]",
            "text/plain": [
              "<Figure size 432x288 with 1 Axes>"
            ]
          },
          "metadata": {
            "needs_background": "light"
          }
        },
        {
          "output_type": "display_data",
          "data": {
            "image/png": "[encoded data removed]",
            "text/plain": [
              "<Figure size 432x288 with 2 Axes>"
            ]
          },
          "metadata": {
            "needs_background": "light"
          }
        }
      ]
    },
    {
      "cell_type": "markdown",
      "metadata": {
        "id": "EHCw70Bm3RKl"
      },
      "source": [
        "#Feature Importance"
      ]
    },
    {
      "cell_type": "code",
      "metadata": {
        "colab": {
          "base_uri": "https://localhost:8080/",
          "height": 729
        },
        "id": "ARjCixEQ2UWD",
        "outputId": "8a95b6b9-feec-4e85-f539-a4d1b66e8aca"
      },
      "source": [
        "plt.style.use('dark_background')\n",
        "cols = (feature_importance_df[[\"Feature\", \"importance\"]]\n",
        "    .groupby(\"Feature\")\n",
        "    .mean()\n",
        "    .sort_values(by=\"importance\", ascending=False)[:60].index)\n",
        "best_features = feature_importance_df.loc[feature_importance_df.Feature.isin(cols)]\n",
        "\n",
        "plt.figure(figsize=(10,10))\n",
        "sns.barplot(x=\"importance\", y=\"Feature\", data=best_features.sort_values(by=\"importance\",ascending=False),\n",
        "        edgecolor=('white'), linewidth=2, palette=\"rocket\")\n",
        "plt.title('LGB Features importance (averaged/folds)', fontsize=18)\n",
        "plt.tight_layout()"
      ],
      "execution_count": 60,
      "outputs": [
        {
          "output_type": "display_data",
          "data": {
            "image/png": "[encoded data removed]",
            "text/plain": [
              "<Figure size 720x720 with 1 Axes>"
            ]
          },
          "metadata": {}
        }
      ]
    },
    {
      "cell_type": "markdown",
      "metadata": {
        "id": "cQaubvpU3Z-F"
      },
      "source": [
        "#Submission:"
      ]
    },
    {
      "cell_type": "code",
      "metadata": {
        "colab": {
          "base_uri": "https://localhost:8080/",
          "height": 205
        },
        "id": "P38BE7mP2UTg",
        "outputId": "d8f60547-77e8-4450-fa83-3e0ef5fa3e4c"
      },
      "source": [
        "sub['Response'] = predictions\n",
        "sub['Response']=np.where(sub['Response'] > 0.43,1,0)\n",
        "sub[[\"ID\",\"Response\"]].to_csv(\"LGBM.csv\",index=False)                            # with threshold 0.4 ---> 0.72 on LB, \n",
        "                                                                                 # with threshold 0.41 ---> 0.72 on LB,\n",
        "                                                                                 # with threshold 0.42 ---> 0.72 on LB, \n",
        "                                                                                 # with threshold 0.43 ---> 0.73469 on LB,  \n",
        "sub[[\"ID\",\"Response\"]].head()                                                    # with threshold 0.5 ---> 0.7111 on LB,\n",
        "                                                                                 # with threshold 0.45 ---> 0.7083  on LB,\n",
        "                                                                                 # with threshold 0.44 ---> 0.7083  on LB,"
      ],
      "execution_count": 61,
      "outputs": [
        {
          "output_type": "execute_result",
          "data": {
            "text/html": [
              "<div>\n",
              "<style scoped>\n",
              "    .dataframe tbody tr th:only-of-type {\n",
              "        vertical-align: middle;\n",
              "    }\n",
              "\n",
              "    .dataframe tbody tr th {\n",
              "        vertical-align: top;\n",
              "    }\n",
              "\n",
              "    .dataframe thead th {\n",
              "        text-align: right;\n",
              "    }\n",
              "</style>\n",
              "<table border=\"1\" class=\"dataframe\">\n",
              "  <thead>\n",
              "    <tr style=\"text-align: right;\">\n",
              "      <th></th>\n",
              "      <th>ID</th>\n",
              "      <th>Response</th>\n",
              "    </tr>\n",
              "  </thead>\n",
              "  <tbody>\n",
              "    <tr>\n",
              "      <th>0</th>\n",
              "      <td>ID_ZPMABNVX</td>\n",
              "      <td>0</td>\n",
              "    </tr>\n",
              "    <tr>\n",
              "      <th>1</th>\n",
              "      <td>ID_WFE91NAA</td>\n",
              "      <td>1</td>\n",
              "    </tr>\n",
              "    <tr>\n",
              "      <th>2</th>\n",
              "      <td>ID_JV11RBRK</td>\n",
              "      <td>0</td>\n",
              "    </tr>\n",
              "    <tr>\n",
              "      <th>3</th>\n",
              "      <td>ID_6B7SVKY9</td>\n",
              "      <td>1</td>\n",
              "    </tr>\n",
              "    <tr>\n",
              "      <th>4</th>\n",
              "      <td>ID_GOVUZ545</td>\n",
              "      <td>0</td>\n",
              "    </tr>\n",
              "  </tbody>\n",
              "</table>\n",
              "</div>"
            ],
            "text/plain": [
              "            ID  Response\n",
              "0  ID_ZPMABNVX         0\n",
              "1  ID_WFE91NAA         1\n",
              "2  ID_JV11RBRK         0\n",
              "3  ID_6B7SVKY9         1\n",
              "4  ID_GOVUZ545         0"
            ]
          },
          "metadata": {},
          "execution_count": 61
        }
      ]
    },
    {
      "cell_type": "code",
      "metadata": {
        "colab": {
          "base_uri": "https://localhost:8080/"
        },
        "id": "oPrETC6C2UQq",
        "outputId": "ca5f9b00-d199-46bc-93af-59003a3aff6d"
      },
      "source": [
        "sub['Response'].value_counts()"
      ],
      "execution_count": 62,
      "outputs": [
        {
          "output_type": "execute_result",
          "data": {
            "text/plain": [
              "0    499\n",
              "1    173\n",
              "Name: Response, dtype: int64"
            ]
          },
          "metadata": {},
          "execution_count": 62
        }
      ]
    },
    {
      "cell_type": "code",
      "metadata": {
        "id": "DLFYiu-s2UNs"
      },
      "source": [
        ""
      ],
      "execution_count": 62,
      "outputs": []
    },
    {
      "cell_type": "code",
      "metadata": {
        "id": "LeN9VCIm2sR7"
      },
      "source": [
        ""
      ],
      "execution_count": 62,
      "outputs": []
    },
    {
      "cell_type": "code",
      "metadata": {
        "id": "DZweeXJM2sQh"
      },
      "source": [
        ""
      ],
      "execution_count": 62,
      "outputs": []
    },
    {
      "cell_type": "code",
      "metadata": {
        "id": "Pv73JeLn2sA6"
      },
      "source": [
        ""
      ],
      "execution_count": 62,
      "outputs": []
    }
  ]
}